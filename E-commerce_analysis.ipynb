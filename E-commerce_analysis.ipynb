{
 "cells": [
  {
   "cell_type": "code",
   "execution_count": 1,
   "metadata": {},
   "outputs": [],
   "source": [
    "import pandas as pd\n",
    "import seaborn as sns\n",
    "import numpy as np\n",
    "import scipy.stats as stats\n",
    "import matplotlib.pyplot as plt\n",
    "from datetime import timedelta"
   ]
  },
  {
   "cell_type": "markdown",
   "metadata": {},
   "source": [
    "# Цель исследования\n",
    "Пример небольшого аналитического исследования для интернет-магазина.  \n",
    "Для анализа было предоставлено несколько наборов данных с информацией о пользователях, заказах и товарных позициях, заказанных покупателями. \n",
    "\n",
    "### Задачи исследования:\n",
    "1. В ходе исследования были получены ответы на следующие вопросы:\n",
    "    - Сколько пользователей магазина совершили покупку только один раз?\n",
    "    - Сколько заказов в месяц в среднем не доставляется по разным причинам (вывести детализацию по причинам)?\n",
    "    - В какой день недели чаще всего покупается каждый товар, представленный в магазине?\n",
    "    - Сколько у каждого из пользователей в среднем покупок в неделю (по месяцам)?\n",
    "    \n",
    "    \n",
    "2. Проведен когортный анализ пользователей.\n",
    "\n",
    "3. Построена RFM-сегментация пользователей.\n",
    "\n",
    "### Характеристика отчета:\n",
    "- Исследование выполено на языке программирования Python.\n",
    "- Исследование представляет собой 6 аналитических задач, направленных на изучение аудитории интернет-магазина. В конце аналитического отчета сделаны общие выводы."
   ]
  },
  {
   "cell_type": "code",
   "execution_count": 2,
   "metadata": {},
   "outputs": [],
   "source": [
    "# загружаем данные, колонки с датами считаваем в формате дат\n",
    "customers = pd.read_csv('./olist_customers_dataset.csv')\n",
    "orders = pd.read_csv('./olist_orders_dataset.csv', parse_dates=[3,4,5,6,7])\n",
    "items = pd.read_csv('./olist_order_items_dataset.csv', parse_dates=[4])"
   ]
  },
  {
   "cell_type": "code",
   "execution_count": 3,
   "metadata": {},
   "outputs": [
    {
     "data": {
      "text/html": [
       "<div>\n",
       "<style scoped>\n",
       "    .dataframe tbody tr th:only-of-type {\n",
       "        vertical-align: middle;\n",
       "    }\n",
       "\n",
       "    .dataframe tbody tr th {\n",
       "        vertical-align: top;\n",
       "    }\n",
       "\n",
       "    .dataframe thead th {\n",
       "        text-align: right;\n",
       "    }\n",
       "</style>\n",
       "<table border=\"1\" class=\"dataframe\">\n",
       "  <thead>\n",
       "    <tr style=\"text-align: right;\">\n",
       "      <th></th>\n",
       "      <th>customer_id</th>\n",
       "      <th>customer_unique_id</th>\n",
       "      <th>customer_zip_code_prefix</th>\n",
       "      <th>customer_city</th>\n",
       "      <th>customer_state</th>\n",
       "    </tr>\n",
       "  </thead>\n",
       "  <tbody>\n",
       "    <tr>\n",
       "      <th>0</th>\n",
       "      <td>06b8999e2fba1a1fbc88172c00ba8bc7</td>\n",
       "      <td>861eff4711a542e4b93843c6dd7febb0</td>\n",
       "      <td>14409</td>\n",
       "      <td>franca</td>\n",
       "      <td>SP</td>\n",
       "    </tr>\n",
       "    <tr>\n",
       "      <th>1</th>\n",
       "      <td>18955e83d337fd6b2def6b18a428ac77</td>\n",
       "      <td>290c77bc529b7ac935b93aa66c333dc3</td>\n",
       "      <td>9790</td>\n",
       "      <td>sao bernardo do campo</td>\n",
       "      <td>SP</td>\n",
       "    </tr>\n",
       "  </tbody>\n",
       "</table>\n",
       "</div>"
      ],
      "text/plain": [
       "                        customer_id                customer_unique_id  \\\n",
       "0  06b8999e2fba1a1fbc88172c00ba8bc7  861eff4711a542e4b93843c6dd7febb0   \n",
       "1  18955e83d337fd6b2def6b18a428ac77  290c77bc529b7ac935b93aa66c333dc3   \n",
       "\n",
       "   customer_zip_code_prefix          customer_city customer_state  \n",
       "0                     14409                 franca             SP  \n",
       "1                      9790  sao bernardo do campo             SP  "
      ]
     },
     "execution_count": 3,
     "metadata": {},
     "output_type": "execute_result"
    }
   ],
   "source": [
    "# таблица с уникальными идентификаторами пользователей\n",
    "customers.head(2)"
   ]
  },
  {
   "cell_type": "code",
   "execution_count": 4,
   "metadata": {},
   "outputs": [
    {
     "data": {
      "text/html": [
       "<div>\n",
       "<style scoped>\n",
       "    .dataframe tbody tr th:only-of-type {\n",
       "        vertical-align: middle;\n",
       "    }\n",
       "\n",
       "    .dataframe tbody tr th {\n",
       "        vertical-align: top;\n",
       "    }\n",
       "\n",
       "    .dataframe thead th {\n",
       "        text-align: right;\n",
       "    }\n",
       "</style>\n",
       "<table border=\"1\" class=\"dataframe\">\n",
       "  <thead>\n",
       "    <tr style=\"text-align: right;\">\n",
       "      <th></th>\n",
       "      <th>order_id</th>\n",
       "      <th>customer_id</th>\n",
       "      <th>order_status</th>\n",
       "      <th>order_purchase_timestamp</th>\n",
       "      <th>order_approved_at</th>\n",
       "      <th>order_delivered_carrier_date</th>\n",
       "      <th>order_delivered_customer_date</th>\n",
       "      <th>order_estimated_delivery_date</th>\n",
       "    </tr>\n",
       "  </thead>\n",
       "  <tbody>\n",
       "    <tr>\n",
       "      <th>0</th>\n",
       "      <td>e481f51cbdc54678b7cc49136f2d6af7</td>\n",
       "      <td>9ef432eb6251297304e76186b10a928d</td>\n",
       "      <td>delivered</td>\n",
       "      <td>2017-10-02 10:56:33</td>\n",
       "      <td>2017-10-02 11:07:15</td>\n",
       "      <td>2017-10-04 19:55:00</td>\n",
       "      <td>2017-10-10 21:25:13</td>\n",
       "      <td>2017-10-18</td>\n",
       "    </tr>\n",
       "    <tr>\n",
       "      <th>1</th>\n",
       "      <td>53cdb2fc8bc7dce0b6741e2150273451</td>\n",
       "      <td>b0830fb4747a6c6d20dea0b8c802d7ef</td>\n",
       "      <td>delivered</td>\n",
       "      <td>2018-07-24 20:41:37</td>\n",
       "      <td>2018-07-26 03:24:27</td>\n",
       "      <td>2018-07-26 14:31:00</td>\n",
       "      <td>2018-08-07 15:27:45</td>\n",
       "      <td>2018-08-13</td>\n",
       "    </tr>\n",
       "  </tbody>\n",
       "</table>\n",
       "</div>"
      ],
      "text/plain": [
       "                           order_id                       customer_id  \\\n",
       "0  e481f51cbdc54678b7cc49136f2d6af7  9ef432eb6251297304e76186b10a928d   \n",
       "1  53cdb2fc8bc7dce0b6741e2150273451  b0830fb4747a6c6d20dea0b8c802d7ef   \n",
       "\n",
       "  order_status order_purchase_timestamp   order_approved_at  \\\n",
       "0    delivered      2017-10-02 10:56:33 2017-10-02 11:07:15   \n",
       "1    delivered      2018-07-24 20:41:37 2018-07-26 03:24:27   \n",
       "\n",
       "  order_delivered_carrier_date order_delivered_customer_date  \\\n",
       "0          2017-10-04 19:55:00           2017-10-10 21:25:13   \n",
       "1          2018-07-26 14:31:00           2018-08-07 15:27:45   \n",
       "\n",
       "  order_estimated_delivery_date  \n",
       "0                    2017-10-18  \n",
       "1                    2018-08-13  "
      ]
     },
     "execution_count": 4,
     "metadata": {},
     "output_type": "execute_result"
    }
   ],
   "source": [
    "# таблица заказов\n",
    "orders.head(2)"
   ]
  },
  {
   "cell_type": "code",
   "execution_count": 5,
   "metadata": {
    "scrolled": true
   },
   "outputs": [
    {
     "data": {
      "text/html": [
       "<div>\n",
       "<style scoped>\n",
       "    .dataframe tbody tr th:only-of-type {\n",
       "        vertical-align: middle;\n",
       "    }\n",
       "\n",
       "    .dataframe tbody tr th {\n",
       "        vertical-align: top;\n",
       "    }\n",
       "\n",
       "    .dataframe thead th {\n",
       "        text-align: right;\n",
       "    }\n",
       "</style>\n",
       "<table border=\"1\" class=\"dataframe\">\n",
       "  <thead>\n",
       "    <tr style=\"text-align: right;\">\n",
       "      <th></th>\n",
       "      <th>order_id</th>\n",
       "      <th>order_item_id</th>\n",
       "      <th>product_id</th>\n",
       "      <th>seller_id</th>\n",
       "      <th>shipping_limit_date</th>\n",
       "      <th>price</th>\n",
       "      <th>freight_value</th>\n",
       "    </tr>\n",
       "  </thead>\n",
       "  <tbody>\n",
       "    <tr>\n",
       "      <th>0</th>\n",
       "      <td>00010242fe8c5a6d1ba2dd792cb16214</td>\n",
       "      <td>1</td>\n",
       "      <td>4244733e06e7ecb4970a6e2683c13e61</td>\n",
       "      <td>48436dade18ac8b2bce089ec2a041202</td>\n",
       "      <td>2017-09-19 09:45:35</td>\n",
       "      <td>58.9</td>\n",
       "      <td>13.29</td>\n",
       "    </tr>\n",
       "    <tr>\n",
       "      <th>1</th>\n",
       "      <td>00018f77f2f0320c557190d7a144bdd3</td>\n",
       "      <td>1</td>\n",
       "      <td>e5f2d52b802189ee658865ca93d83a8f</td>\n",
       "      <td>dd7ddc04e1b6c2c614352b383efe2d36</td>\n",
       "      <td>2017-05-03 11:05:13</td>\n",
       "      <td>239.9</td>\n",
       "      <td>19.93</td>\n",
       "    </tr>\n",
       "  </tbody>\n",
       "</table>\n",
       "</div>"
      ],
      "text/plain": [
       "                           order_id  order_item_id  \\\n",
       "0  00010242fe8c5a6d1ba2dd792cb16214              1   \n",
       "1  00018f77f2f0320c557190d7a144bdd3              1   \n",
       "\n",
       "                         product_id                         seller_id  \\\n",
       "0  4244733e06e7ecb4970a6e2683c13e61  48436dade18ac8b2bce089ec2a041202   \n",
       "1  e5f2d52b802189ee658865ca93d83a8f  dd7ddc04e1b6c2c614352b383efe2d36   \n",
       "\n",
       "  shipping_limit_date  price  freight_value  \n",
       "0 2017-09-19 09:45:35   58.9          13.29  \n",
       "1 2017-05-03 11:05:13  239.9          19.93  "
      ]
     },
     "execution_count": 5,
     "metadata": {},
     "output_type": "execute_result"
    }
   ],
   "source": [
    "# товарные позиции, входящие в заказы\n",
    "items.head(2)"
   ]
  },
  {
   "cell_type": "markdown",
   "metadata": {},
   "source": [
    "## 1. Сколько пользователей магазина совершили покупку только один раз?\n",
    "Проанализируем, как отображается время создания заказа, подтверждения, доставки для разных статусов заказа, чтобы принять решение о том, что мы считаем покупкой: для этого **посчитаем число строк, где не зафиксированы даты создания заказа, подтверждения, доставки**"
   ]
  },
  {
   "cell_type": "code",
   "execution_count": 6,
   "metadata": {},
   "outputs": [],
   "source": [
    "# создаем дф с необходимой информацией о заказах\n",
    "ord_stat = orders[['order_status',\\\n",
    "                   'customer_id',\\\n",
    "                   'order_purchase_timestamp',\\\n",
    "                   'order_approved_at',\\\n",
    "                   'order_delivered_carrier_date',\\\n",
    "                   'order_delivered_customer_date']]"
   ]
  },
  {
   "cell_type": "code",
   "execution_count": 7,
   "metadata": {},
   "outputs": [
    {
     "name": "stderr",
     "output_type": "stream",
     "text": [
      "C:\\Users\\Ekaterina\\AppData\\Local\\Temp\\ipykernel_13208\\2079393063.py:1: SettingWithCopyWarning: \n",
      "A value is trying to be set on a copy of a slice from a DataFrame.\n",
      "Try using .loc[row_indexer,col_indexer] = value instead\n",
      "\n",
      "See the caveats in the documentation: https://pandas.pydata.org/pandas-docs/stable/user_guide/indexing.html#returning-a-view-versus-a-copy\n",
      "  ord_stat[['order_purchase_timestamp',\\\n"
     ]
    }
   ],
   "source": [
    "ord_stat[['order_purchase_timestamp',\\\n",
    "          'order_approved_at',\\\n",
    "          'order_delivered_carrier_date',\\\n",
    "          'order_delivered_customer_date']] = ord_stat[['order_purchase_timestamp',\\\n",
    "                                                        'order_approved_at',\\\n",
    "                                                        'order_delivered_carrier_date',\\\n",
    "                                                        'order_delivered_customer_date']]\\\n",
    "                                                        .isna()"
   ]
  },
  {
   "cell_type": "markdown",
   "metadata": {},
   "source": [
    "Получаем таблицу, где `num_orders` - общее число заказов с определенным статусом, остальные колонки - число заказов, для которых отсутствуют определенные подтверждения\n",
    "- `num_no_purchase_time` - отсутствует время создания заказа\n",
    "- `num_no_approval_time` - отсутствует время подтверждения оплаты\n",
    "- `num_no_carrier_date` - отстуствует время передачи заказа в курьерскую службу\n",
    "- `num_no_customer_date` -  отсутствует время доставки заказа покупателю"
   ]
  },
  {
   "cell_type": "code",
   "execution_count": 8,
   "metadata": {},
   "outputs": [
    {
     "data": {
      "text/html": [
       "<div>\n",
       "<style scoped>\n",
       "    .dataframe tbody tr th:only-of-type {\n",
       "        vertical-align: middle;\n",
       "    }\n",
       "\n",
       "    .dataframe tbody tr th {\n",
       "        vertical-align: top;\n",
       "    }\n",
       "\n",
       "    .dataframe thead th {\n",
       "        text-align: right;\n",
       "    }\n",
       "</style>\n",
       "<table border=\"1\" class=\"dataframe\">\n",
       "  <thead>\n",
       "    <tr style=\"text-align: right;\">\n",
       "      <th></th>\n",
       "      <th>num_orders</th>\n",
       "      <th>num_no_purchase_time</th>\n",
       "      <th>num_no_approval_time</th>\n",
       "      <th>num_no_carrier_date</th>\n",
       "      <th>num_no_customer_date</th>\n",
       "    </tr>\n",
       "    <tr>\n",
       "      <th>order_status</th>\n",
       "      <th></th>\n",
       "      <th></th>\n",
       "      <th></th>\n",
       "      <th></th>\n",
       "      <th></th>\n",
       "    </tr>\n",
       "  </thead>\n",
       "  <tbody>\n",
       "    <tr>\n",
       "      <th>approved</th>\n",
       "      <td>2</td>\n",
       "      <td>0</td>\n",
       "      <td>0</td>\n",
       "      <td>2</td>\n",
       "      <td>2</td>\n",
       "    </tr>\n",
       "    <tr>\n",
       "      <th>canceled</th>\n",
       "      <td>625</td>\n",
       "      <td>0</td>\n",
       "      <td>141</td>\n",
       "      <td>550</td>\n",
       "      <td>619</td>\n",
       "    </tr>\n",
       "    <tr>\n",
       "      <th>created</th>\n",
       "      <td>5</td>\n",
       "      <td>0</td>\n",
       "      <td>5</td>\n",
       "      <td>5</td>\n",
       "      <td>5</td>\n",
       "    </tr>\n",
       "    <tr>\n",
       "      <th>delivered</th>\n",
       "      <td>96478</td>\n",
       "      <td>0</td>\n",
       "      <td>14</td>\n",
       "      <td>2</td>\n",
       "      <td>8</td>\n",
       "    </tr>\n",
       "    <tr>\n",
       "      <th>invoiced</th>\n",
       "      <td>314</td>\n",
       "      <td>0</td>\n",
       "      <td>0</td>\n",
       "      <td>314</td>\n",
       "      <td>314</td>\n",
       "    </tr>\n",
       "    <tr>\n",
       "      <th>processing</th>\n",
       "      <td>301</td>\n",
       "      <td>0</td>\n",
       "      <td>0</td>\n",
       "      <td>301</td>\n",
       "      <td>301</td>\n",
       "    </tr>\n",
       "    <tr>\n",
       "      <th>shipped</th>\n",
       "      <td>1107</td>\n",
       "      <td>0</td>\n",
       "      <td>0</td>\n",
       "      <td>0</td>\n",
       "      <td>1107</td>\n",
       "    </tr>\n",
       "    <tr>\n",
       "      <th>unavailable</th>\n",
       "      <td>609</td>\n",
       "      <td>0</td>\n",
       "      <td>0</td>\n",
       "      <td>609</td>\n",
       "      <td>609</td>\n",
       "    </tr>\n",
       "  </tbody>\n",
       "</table>\n",
       "</div>"
      ],
      "text/plain": [
       "              num_orders  num_no_purchase_time  num_no_approval_time  \\\n",
       "order_status                                                           \n",
       "approved               2                     0                     0   \n",
       "canceled             625                     0                   141   \n",
       "created                5                     0                     5   \n",
       "delivered          96478                     0                    14   \n",
       "invoiced             314                     0                     0   \n",
       "processing           301                     0                     0   \n",
       "shipped             1107                     0                     0   \n",
       "unavailable          609                     0                     0   \n",
       "\n",
       "              num_no_carrier_date  num_no_customer_date  \n",
       "order_status                                             \n",
       "approved                        2                     2  \n",
       "canceled                      550                   619  \n",
       "created                         5                     5  \n",
       "delivered                       2                     8  \n",
       "invoiced                      314                   314  \n",
       "processing                    301                   301  \n",
       "shipped                         0                  1107  \n",
       "unavailable                   609                   609  "
      ]
     },
     "execution_count": 8,
     "metadata": {},
     "output_type": "execute_result"
    }
   ],
   "source": [
    "ord_stat.groupby('order_status')\\\n",
    "        .agg({'customer_id':'count',\\\n",
    "              'order_purchase_timestamp':'sum',\\\n",
    "              'order_approved_at':'sum',\\\n",
    "              'order_delivered_carrier_date':'sum',\\\n",
    "              'order_delivered_customer_date':'sum'})\\\n",
    "        .rename(columns={'customer_id':'num_orders',\\\n",
    "                        'order_purchase_timestamp':'num_no_purchase_time',\\\n",
    "                        'order_approved_at':'num_no_approval_time',\\\n",
    "                        'order_delivered_carrier_date':'num_no_carrier_date',\n",
    "                        'order_delivered_customer_date':'num_no_customer_date'})"
   ]
  },
  {
   "cell_type": "markdown",
   "metadata": {},
   "source": [
    "В ходе исследования мы **НЕ будем** считать покупками все заказы со статусами `canceled`, `created` (т.к. для них пока не подтверждена оплата) и `unavailable` (товар утерян). Отсутствующие подтверждения оплат и доставки для заказов со статусом `delivered` считаем ошибкой сбора данных."
   ]
  },
  {
   "cell_type": "code",
   "execution_count": 9,
   "metadata": {},
   "outputs": [
    {
     "name": "stdout",
     "output_type": "stream",
     "text": [
      "Число строк в файле customers:  99441\n",
      "Число уникальных пользователей на платформе:  96096\n"
     ]
    }
   ],
   "source": [
    "print(\"Число строк в файле customers: \", customers.shape[0])\n",
    "print(\"Число уникальных пользователей на платформе: \", customers.customer_unique_id.nunique())"
   ]
  },
  {
   "cell_type": "markdown",
   "metadata": {},
   "source": [
    "В дальнейшем мы еще будем работать только с заказами, которые мы считаем покупкой. Для удобства создадим дф `purchases` для таких заказов."
   ]
  },
  {
   "cell_type": "code",
   "execution_count": 10,
   "metadata": {},
   "outputs": [],
   "source": [
    "purchases = orders.query('order_status != \"canceled\" and order_status != \"created\" and order_status != \"unavailable\"')"
   ]
  },
  {
   "cell_type": "code",
   "execution_count": 11,
   "metadata": {},
   "outputs": [],
   "source": [
    "# объединяем дф с пользователями и покупками\n",
    "customers_purchases = customers.merge(purchases, how = 'inner', on = 'customer_id')"
   ]
  },
  {
   "cell_type": "markdown",
   "metadata": {},
   "source": [
    "Для подсчета числа пользователей, совершивших только одну покупку, из объединенной таблицы с пользователями и покупками исключаем пользователей, которые сделали более одного заказа."
   ]
  },
  {
   "cell_type": "code",
   "execution_count": 12,
   "metadata": {},
   "outputs": [
    {
     "name": "stdout",
     "output_type": "stream",
     "text": [
      "Число пользователей, которые совершили только одну покупку:  92099\n"
     ]
    }
   ],
   "source": [
    "print(\"Число пользователей, которые совершили только одну покупку: \", \\\n",
    "customers_purchases.customer_unique_id.value_counts()\\\n",
    "                  .reset_index()\\\n",
    "                  .query('customer_unique_id == 1')\\\n",
    "                  .customer_unique_id.sum())"
   ]
  },
  {
   "cell_type": "code",
   "execution_count": 13,
   "metadata": {},
   "outputs": [
    {
     "data": {
      "text/plain": [
       "95.84"
      ]
     },
     "execution_count": 13,
     "metadata": {},
     "output_type": "execute_result"
    }
   ],
   "source": [
    "# определим, какой процент совершившие одну покупку составляют от общего числа пользователей\n",
    "round(92099/customers.customer_unique_id.nunique()*100,2)"
   ]
  },
  {
   "cell_type": "markdown",
   "metadata": {},
   "source": [
    "Расчет показывает, что абсолютное большинство пользователей платформы (95.84%) совершило только одну покупку."
   ]
  },
  {
   "cell_type": "markdown",
   "metadata": {},
   "source": [
    "# 2. Сколько заказов в месяц в среднем не доставляется по разным причинам (вывести детализацию по причинам)?\n",
    "Не доставляются заказы со статусами `canceled` и `unavailable`.  \n",
    "По каким причинам может быть недоставлен заказ? \n",
    "- 1 - не передали покупателю\n",
    "- 2 - не передали курьеру\n",
    "- 3 - не подтвержен (считаем, что по вине компании, а не по желанию покупателя)\n",
    "- 4 - утерян заказ (`unavailable`)"
   ]
  },
  {
   "cell_type": "markdown",
   "metadata": {},
   "source": [
    "Некоторые заказы, были доставлены, но потом отменены (`canceled`) по желанию покупателя. Их не принимаем в расчет в этом задании"
   ]
  },
  {
   "cell_type": "code",
   "execution_count": 14,
   "metadata": {},
   "outputs": [
    {
     "data": {
      "text/html": [
       "<div>\n",
       "<style scoped>\n",
       "    .dataframe tbody tr th:only-of-type {\n",
       "        vertical-align: middle;\n",
       "    }\n",
       "\n",
       "    .dataframe tbody tr th {\n",
       "        vertical-align: top;\n",
       "    }\n",
       "\n",
       "    .dataframe thead th {\n",
       "        text-align: right;\n",
       "    }\n",
       "</style>\n",
       "<table border=\"1\" class=\"dataframe\">\n",
       "  <thead>\n",
       "    <tr style=\"text-align: right;\">\n",
       "      <th></th>\n",
       "      <th>order_id</th>\n",
       "      <th>customer_id</th>\n",
       "      <th>order_status</th>\n",
       "      <th>order_purchase_timestamp</th>\n",
       "      <th>order_approved_at</th>\n",
       "      <th>order_delivered_carrier_date</th>\n",
       "      <th>order_delivered_customer_date</th>\n",
       "      <th>order_estimated_delivery_date</th>\n",
       "    </tr>\n",
       "  </thead>\n",
       "  <tbody>\n",
       "    <tr>\n",
       "      <th>2921</th>\n",
       "      <td>1950d777989f6a877539f53795b4c3c3</td>\n",
       "      <td>1bccb206de9f0f25adc6871a1bcf77b2</td>\n",
       "      <td>canceled</td>\n",
       "      <td>2018-02-19 19:48:52</td>\n",
       "      <td>2018-02-19 20:56:05</td>\n",
       "      <td>2018-02-20 19:57:13</td>\n",
       "      <td>2018-03-21 22:03:51</td>\n",
       "      <td>2018-03-09</td>\n",
       "    </tr>\n",
       "    <tr>\n",
       "      <th>8791</th>\n",
       "      <td>dabf2b0e35b423f94618bf965fcb7514</td>\n",
       "      <td>5cdec0bb8cbdf53ffc8fdc212cd247c6</td>\n",
       "      <td>canceled</td>\n",
       "      <td>2016-10-09 00:56:52</td>\n",
       "      <td>2016-10-09 13:36:58</td>\n",
       "      <td>2016-10-13 13:36:59</td>\n",
       "      <td>2016-10-16 14:36:59</td>\n",
       "      <td>2016-11-30</td>\n",
       "    </tr>\n",
       "  </tbody>\n",
       "</table>\n",
       "</div>"
      ],
      "text/plain": [
       "                              order_id                       customer_id  \\\n",
       "2921  1950d777989f6a877539f53795b4c3c3  1bccb206de9f0f25adc6871a1bcf77b2   \n",
       "8791  dabf2b0e35b423f94618bf965fcb7514  5cdec0bb8cbdf53ffc8fdc212cd247c6   \n",
       "\n",
       "     order_status order_purchase_timestamp   order_approved_at  \\\n",
       "2921     canceled      2018-02-19 19:48:52 2018-02-19 20:56:05   \n",
       "8791     canceled      2016-10-09 00:56:52 2016-10-09 13:36:58   \n",
       "\n",
       "     order_delivered_carrier_date order_delivered_customer_date  \\\n",
       "2921          2018-02-20 19:57:13           2018-03-21 22:03:51   \n",
       "8791          2016-10-13 13:36:59           2016-10-16 14:36:59   \n",
       "\n",
       "     order_estimated_delivery_date  \n",
       "2921                    2018-03-09  \n",
       "8791                    2016-11-30  "
      ]
     },
     "execution_count": 14,
     "metadata": {},
     "output_type": "execute_result"
    }
   ],
   "source": [
    "# пример: заказы, которые были отменены по желанию покупателя\n",
    "orders.query('order_status == \"canceled\" and not order_delivered_customer_date.isna()').head(2)"
   ]
  },
  {
   "cell_type": "markdown",
   "metadata": {},
   "source": [
    "Создадим датафрейм с заказами, которые не были доставлены до покупателей"
   ]
  },
  {
   "cell_type": "code",
   "execution_count": 15,
   "metadata": {},
   "outputs": [],
   "source": [
    "undelivered = orders.query('order_status == \"canceled\" and order_delivered_customer_date.isna() or \\\n",
    "                            order_status == \"unavailable\"')"
   ]
  },
  {
   "cell_type": "code",
   "execution_count": 16,
   "metadata": {},
   "outputs": [
    {
     "data": {
      "text/plain": [
       "order_id                                 object\n",
       "customer_id                              object\n",
       "order_status                             object\n",
       "order_purchase_timestamp         datetime64[ns]\n",
       "order_approved_at                datetime64[ns]\n",
       "order_delivered_carrier_date     datetime64[ns]\n",
       "order_delivered_customer_date    datetime64[ns]\n",
       "order_estimated_delivery_date    datetime64[ns]\n",
       "dtype: object"
      ]
     },
     "execution_count": 16,
     "metadata": {},
     "output_type": "execute_result"
    }
   ],
   "source": [
    "undelivered.dtypes"
   ]
  },
  {
   "cell_type": "markdown",
   "metadata": {},
   "source": [
    "Добавим колонку с месяцами по годам, т.к. у нас в доступе данные за несколько лет"
   ]
  },
  {
   "cell_type": "code",
   "execution_count": 17,
   "metadata": {},
   "outputs": [
    {
     "name": "stderr",
     "output_type": "stream",
     "text": [
      "C:\\Users\\Ekaterina\\AppData\\Local\\Temp\\ipykernel_13208\\1059114627.py:1: SettingWithCopyWarning: \n",
      "A value is trying to be set on a copy of a slice from a DataFrame.\n",
      "Try using .loc[row_indexer,col_indexer] = value instead\n",
      "\n",
      "See the caveats in the documentation: https://pandas.pydata.org/pandas-docs/stable/user_guide/indexing.html#returning-a-view-versus-a-copy\n",
      "  undelivered['month'] = undelivered.order_purchase_timestamp.dt.month\n",
      "C:\\Users\\Ekaterina\\AppData\\Local\\Temp\\ipykernel_13208\\1059114627.py:2: SettingWithCopyWarning: \n",
      "A value is trying to be set on a copy of a slice from a DataFrame.\n",
      "Try using .loc[row_indexer,col_indexer] = value instead\n",
      "\n",
      "See the caveats in the documentation: https://pandas.pydata.org/pandas-docs/stable/user_guide/indexing.html#returning-a-view-versus-a-copy\n",
      "  undelivered['year'] = undelivered.order_purchase_timestamp.dt.year\n",
      "C:\\Users\\Ekaterina\\AppData\\Local\\Temp\\ipykernel_13208\\1059114627.py:3: SettingWithCopyWarning: \n",
      "A value is trying to be set on a copy of a slice from a DataFrame.\n",
      "Try using .loc[row_indexer,col_indexer] = value instead\n",
      "\n",
      "See the caveats in the documentation: https://pandas.pydata.org/pandas-docs/stable/user_guide/indexing.html#returning-a-view-versus-a-copy\n",
      "  undelivered['purchase_month'] = undelivered.year*12 + undelivered.month\n"
     ]
    }
   ],
   "source": [
    "undelivered['month'] = undelivered.order_purchase_timestamp.dt.month\n",
    "undelivered['year'] = undelivered.order_purchase_timestamp.dt.year\n",
    "undelivered['purchase_month'] = undelivered.year*12 + undelivered.month"
   ]
  },
  {
   "cell_type": "code",
   "execution_count": 18,
   "metadata": {},
   "outputs": [
    {
     "name": "stdout",
     "output_type": "stream",
     "text": [
      "Всего за время наблюдения было недоставлено 1228 заказов\n"
     ]
    }
   ],
   "source": [
    "print(\"Всего за время наблюдения было недоставлено\", undelivered.order_id.nunique(),\"заказов\")"
   ]
  },
  {
   "cell_type": "markdown",
   "metadata": {},
   "source": [
    "Вычислим, сколько в среднем не доставляется заказов в месяц (без разбивки по причинам)"
   ]
  },
  {
   "cell_type": "code",
   "execution_count": 19,
   "metadata": {},
   "outputs": [
    {
     "name": "stdout",
     "output_type": "stream",
     "text": [
      "В среднем не доставляется 51.0 заказ в месяц\n"
     ]
    }
   ],
   "source": [
    "print(\"В среднем не доставляется\",\\\n",
    "      undelivered.groupby('purchase_month').agg({'order_status':'count'}).order_status.mean().round(),\\\n",
    "      \"заказ в месяц\")"
   ]
  },
  {
   "cell_type": "markdown",
   "metadata": {},
   "source": [
    "Выполним разбивку датасета по причинам и выясним, сколько в среднем не доставляется заказов по каждой и причин"
   ]
  },
  {
   "cell_type": "code",
   "execution_count": 20,
   "metadata": {},
   "outputs": [],
   "source": [
    "# извлекаем необходимые колонки из дф с недоставленными заказами\n",
    "undelivered = undelivered.loc[:,['order_approved_at',\\\n",
    "                                 'order_delivered_carrier_date',\\\n",
    "                                 'order_delivered_customer_date',\\\n",
    "                                 'order_status',\\\n",
    "                                 'purchase_month']]"
   ]
  },
  {
   "cell_type": "markdown",
   "metadata": {},
   "source": [
    "Переведем даты подтверждения оплаты и доставки в булевы значения, чтобы видеть, для каких заказы с подтвержденной оплатой и разные стадии доставки, а также заказы, для которых оплата не была подтверждена"
   ]
  },
  {
   "cell_type": "code",
   "execution_count": 21,
   "metadata": {},
   "outputs": [],
   "source": [
    "undelivered[['order_approved_at',\\\n",
    "             'order_delivered_carrier_date',\\\n",
    "             'order_delivered_customer_date']] = undelivered[['order_approved_at',\\\n",
    "                                                            'order_delivered_carrier_date',\\\n",
    "                                                            'order_delivered_customer_date']].isna()"
   ]
  },
  {
   "cell_type": "markdown",
   "metadata": {},
   "source": [
    "Заменим статус заказа на числовое значение для того, чтобы выполнить разбивку по причинам"
   ]
  },
  {
   "cell_type": "code",
   "execution_count": 22,
   "metadata": {},
   "outputs": [],
   "source": [
    "undelivered['order_status'] = undelivered.order_status.str.replace('unavailable','3')\\\n",
    "                                                            .replace('canceled','0')\\\n",
    "                                                            .astype('int32')"
   ]
  },
  {
   "cell_type": "markdown",
   "metadata": {},
   "source": [
    "Суммируем информацию о статусах заказов и фактах подтверждения оплаты/доставки - получаем единую колонку, в ней числовые \n",
    "значения соответствуют номерам заранее обозначенных причин:\n",
    "- 1 - не передали покупателю\n",
    "- 2 - не передали курьеру\n",
    "- 3 - не подтвержен (считаем, что по вине компании, а не по желанию покупателя)\n",
    "- 4 - утерян заказ (`unavailable`)"
   ]
  },
  {
   "cell_type": "code",
   "execution_count": 23,
   "metadata": {},
   "outputs": [],
   "source": [
    "undelivered['reason_score'] = (undelivered['order_status'] +\\\n",
    "                                undelivered['order_approved_at'] +\\\n",
    "                                undelivered['order_delivered_carrier_date'] +\\\n",
    "                                undelivered['order_delivered_customer_date']).replace(5,4)"
   ]
  },
  {
   "cell_type": "markdown",
   "metadata": {},
   "source": [
    "Группируем дф по месяцам и причинам, считаем общее число недоставленных заказов в каждой группе"
   ]
  },
  {
   "cell_type": "code",
   "execution_count": 24,
   "metadata": {},
   "outputs": [],
   "source": [
    "month_reasons = undelivered.groupby(['purchase_month','reason_score'], as_index = False)\\\n",
    "                            .agg({'order_status':'count'})\\\n",
    "                            .pivot(index='purchase_month',columns='reason_score',values='order_status')\\\n",
    "                            .fillna(0)"
   ]
  },
  {
   "cell_type": "markdown",
   "metadata": {},
   "source": [
    "Вычисляем среднее число недоставленных заказов в месяц в группировке по причинам"
   ]
  },
  {
   "cell_type": "code",
   "execution_count": 25,
   "metadata": {},
   "outputs": [
    {
     "data": {
      "text/plain": [
       "reason_score\n",
       "1     2.88\n",
       "2    17.04\n",
       "3     5.88\n",
       "4    25.38\n",
       "dtype: float64"
      ]
     },
     "execution_count": 25,
     "metadata": {},
     "output_type": "execute_result"
    }
   ],
   "source": [
    "month_reasons.mean().round(2)"
   ]
  },
  {
   "cell_type": "markdown",
   "metadata": {},
   "source": [
    "# ОТВЕТ:\n",
    "- 1 - не передали покупателю: в среднем **2.88** заказов в месяц\n",
    "- 2 - не передали курьеру: в среднем **17.04** заказов в месяц\n",
    "- 3 - не подтвержен: в среднем **5.88** заказов в месяц\n",
    "- 4 - утерян заказ (`unavailable`): в среднем **25.38** заказов в месяц"
   ]
  },
  {
   "cell_type": "markdown",
   "metadata": {},
   "source": [
    "# 3. В какой день недели чаще всего покупается каждый товар, представленный в магазине?"
   ]
  },
  {
   "cell_type": "code",
   "execution_count": 26,
   "metadata": {},
   "outputs": [
    {
     "data": {
      "text/html": [
       "<div>\n",
       "<style scoped>\n",
       "    .dataframe tbody tr th:only-of-type {\n",
       "        vertical-align: middle;\n",
       "    }\n",
       "\n",
       "    .dataframe tbody tr th {\n",
       "        vertical-align: top;\n",
       "    }\n",
       "\n",
       "    .dataframe thead th {\n",
       "        text-align: right;\n",
       "    }\n",
       "</style>\n",
       "<table border=\"1\" class=\"dataframe\">\n",
       "  <thead>\n",
       "    <tr style=\"text-align: right;\">\n",
       "      <th></th>\n",
       "      <th>order_id</th>\n",
       "      <th>order_item_id</th>\n",
       "      <th>product_id</th>\n",
       "      <th>seller_id</th>\n",
       "      <th>shipping_limit_date</th>\n",
       "      <th>price</th>\n",
       "      <th>freight_value</th>\n",
       "    </tr>\n",
       "  </thead>\n",
       "  <tbody>\n",
       "    <tr>\n",
       "      <th>0</th>\n",
       "      <td>00010242fe8c5a6d1ba2dd792cb16214</td>\n",
       "      <td>1</td>\n",
       "      <td>4244733e06e7ecb4970a6e2683c13e61</td>\n",
       "      <td>48436dade18ac8b2bce089ec2a041202</td>\n",
       "      <td>2017-09-19 09:45:35</td>\n",
       "      <td>58.9</td>\n",
       "      <td>13.29</td>\n",
       "    </tr>\n",
       "    <tr>\n",
       "      <th>1</th>\n",
       "      <td>00018f77f2f0320c557190d7a144bdd3</td>\n",
       "      <td>1</td>\n",
       "      <td>e5f2d52b802189ee658865ca93d83a8f</td>\n",
       "      <td>dd7ddc04e1b6c2c614352b383efe2d36</td>\n",
       "      <td>2017-05-03 11:05:13</td>\n",
       "      <td>239.9</td>\n",
       "      <td>19.93</td>\n",
       "    </tr>\n",
       "  </tbody>\n",
       "</table>\n",
       "</div>"
      ],
      "text/plain": [
       "                           order_id  order_item_id  \\\n",
       "0  00010242fe8c5a6d1ba2dd792cb16214              1   \n",
       "1  00018f77f2f0320c557190d7a144bdd3              1   \n",
       "\n",
       "                         product_id                         seller_id  \\\n",
       "0  4244733e06e7ecb4970a6e2683c13e61  48436dade18ac8b2bce089ec2a041202   \n",
       "1  e5f2d52b802189ee658865ca93d83a8f  dd7ddc04e1b6c2c614352b383efe2d36   \n",
       "\n",
       "  shipping_limit_date  price  freight_value  \n",
       "0 2017-09-19 09:45:35   58.9          13.29  \n",
       "1 2017-05-03 11:05:13  239.9          19.93  "
      ]
     },
     "execution_count": 26,
     "metadata": {},
     "output_type": "execute_result"
    }
   ],
   "source": [
    "# дф с товарными позициями, которые содержатся в заказах\n",
    "items.head(2)"
   ]
  },
  {
   "cell_type": "markdown",
   "metadata": {},
   "source": [
    "Объединим датасеты с информацией о покупках и о заказах. (В первом шаге исследования мы определили, какие заказы мы считаем покупками, а какие - нет)"
   ]
  },
  {
   "cell_type": "code",
   "execution_count": 27,
   "metadata": {},
   "outputs": [],
   "source": [
    "purchases_items = purchases.merge(items, how='right',on='order_id')"
   ]
  },
  {
   "cell_type": "markdown",
   "metadata": {},
   "source": [
    "Для того, чтобы определить, в какой день недели товар чаще покупается, мы ориентируемся на время создания заказа, т.к. нас интересует время, когда у покупателя возникает желание приобрести товар."
   ]
  },
  {
   "cell_type": "code",
   "execution_count": 28,
   "metadata": {},
   "outputs": [],
   "source": [
    "# создаем колонку с названиями дней недели по дате создания заказа\n",
    "purchases_items['weekday'] = purchases_items.order_purchase_timestamp.dt.day_name()"
   ]
  },
  {
   "cell_type": "code",
   "execution_count": 29,
   "metadata": {},
   "outputs": [
    {
     "data": {
      "text/html": [
       "<div>\n",
       "<style scoped>\n",
       "    .dataframe tbody tr th:only-of-type {\n",
       "        vertical-align: middle;\n",
       "    }\n",
       "\n",
       "    .dataframe tbody tr th {\n",
       "        vertical-align: top;\n",
       "    }\n",
       "\n",
       "    .dataframe thead th {\n",
       "        text-align: right;\n",
       "    }\n",
       "</style>\n",
       "<table border=\"1\" class=\"dataframe\">\n",
       "  <thead>\n",
       "    <tr style=\"text-align: right;\">\n",
       "      <th></th>\n",
       "      <th>order_id</th>\n",
       "      <th>customer_id</th>\n",
       "      <th>order_status</th>\n",
       "      <th>order_purchase_timestamp</th>\n",
       "      <th>order_approved_at</th>\n",
       "      <th>order_delivered_carrier_date</th>\n",
       "      <th>order_delivered_customer_date</th>\n",
       "      <th>order_estimated_delivery_date</th>\n",
       "      <th>order_item_id</th>\n",
       "      <th>product_id</th>\n",
       "      <th>seller_id</th>\n",
       "      <th>shipping_limit_date</th>\n",
       "      <th>price</th>\n",
       "      <th>freight_value</th>\n",
       "      <th>weekday</th>\n",
       "    </tr>\n",
       "  </thead>\n",
       "  <tbody>\n",
       "    <tr>\n",
       "      <th>0</th>\n",
       "      <td>00010242fe8c5a6d1ba2dd792cb16214</td>\n",
       "      <td>3ce436f183e68e07877b285a838db11a</td>\n",
       "      <td>delivered</td>\n",
       "      <td>2017-09-13 08:59:02</td>\n",
       "      <td>2017-09-13 09:45:35</td>\n",
       "      <td>2017-09-19 18:34:16</td>\n",
       "      <td>2017-09-20 23:43:48</td>\n",
       "      <td>2017-09-29</td>\n",
       "      <td>1</td>\n",
       "      <td>4244733e06e7ecb4970a6e2683c13e61</td>\n",
       "      <td>48436dade18ac8b2bce089ec2a041202</td>\n",
       "      <td>2017-09-19 09:45:35</td>\n",
       "      <td>58.9</td>\n",
       "      <td>13.29</td>\n",
       "      <td>Wednesday</td>\n",
       "    </tr>\n",
       "    <tr>\n",
       "      <th>1</th>\n",
       "      <td>00018f77f2f0320c557190d7a144bdd3</td>\n",
       "      <td>f6dd3ec061db4e3987629fe6b26e5cce</td>\n",
       "      <td>delivered</td>\n",
       "      <td>2017-04-26 10:53:06</td>\n",
       "      <td>2017-04-26 11:05:13</td>\n",
       "      <td>2017-05-04 14:35:00</td>\n",
       "      <td>2017-05-12 16:04:24</td>\n",
       "      <td>2017-05-15</td>\n",
       "      <td>1</td>\n",
       "      <td>e5f2d52b802189ee658865ca93d83a8f</td>\n",
       "      <td>dd7ddc04e1b6c2c614352b383efe2d36</td>\n",
       "      <td>2017-05-03 11:05:13</td>\n",
       "      <td>239.9</td>\n",
       "      <td>19.93</td>\n",
       "      <td>Wednesday</td>\n",
       "    </tr>\n",
       "  </tbody>\n",
       "</table>\n",
       "</div>"
      ],
      "text/plain": [
       "                           order_id                       customer_id  \\\n",
       "0  00010242fe8c5a6d1ba2dd792cb16214  3ce436f183e68e07877b285a838db11a   \n",
       "1  00018f77f2f0320c557190d7a144bdd3  f6dd3ec061db4e3987629fe6b26e5cce   \n",
       "\n",
       "  order_status order_purchase_timestamp   order_approved_at  \\\n",
       "0    delivered      2017-09-13 08:59:02 2017-09-13 09:45:35   \n",
       "1    delivered      2017-04-26 10:53:06 2017-04-26 11:05:13   \n",
       "\n",
       "  order_delivered_carrier_date order_delivered_customer_date  \\\n",
       "0          2017-09-19 18:34:16           2017-09-20 23:43:48   \n",
       "1          2017-05-04 14:35:00           2017-05-12 16:04:24   \n",
       "\n",
       "  order_estimated_delivery_date  order_item_id  \\\n",
       "0                    2017-09-29              1   \n",
       "1                    2017-05-15              1   \n",
       "\n",
       "                         product_id                         seller_id  \\\n",
       "0  4244733e06e7ecb4970a6e2683c13e61  48436dade18ac8b2bce089ec2a041202   \n",
       "1  e5f2d52b802189ee658865ca93d83a8f  dd7ddc04e1b6c2c614352b383efe2d36   \n",
       "\n",
       "  shipping_limit_date  price  freight_value    weekday  \n",
       "0 2017-09-19 09:45:35   58.9          13.29  Wednesday  \n",
       "1 2017-05-03 11:05:13  239.9          19.93  Wednesday  "
      ]
     },
     "execution_count": 29,
     "metadata": {},
     "output_type": "execute_result"
    }
   ],
   "source": [
    "purchases_items.head(2)"
   ]
  },
  {
   "cell_type": "markdown",
   "metadata": {},
   "source": [
    "Определим, в какой день недели товар покупается чаще: для этого посчитаем моду"
   ]
  },
  {
   "cell_type": "code",
   "execution_count": 30,
   "metadata": {},
   "outputs": [
    {
     "data": {
      "text/html": [
       "<div>\n",
       "<style scoped>\n",
       "    .dataframe tbody tr th:only-of-type {\n",
       "        vertical-align: middle;\n",
       "    }\n",
       "\n",
       "    .dataframe tbody tr th {\n",
       "        vertical-align: top;\n",
       "    }\n",
       "\n",
       "    .dataframe thead th {\n",
       "        text-align: right;\n",
       "    }\n",
       "</style>\n",
       "<table border=\"1\" class=\"dataframe\">\n",
       "  <thead>\n",
       "    <tr style=\"text-align: right;\">\n",
       "      <th></th>\n",
       "      <th>weekday</th>\n",
       "    </tr>\n",
       "    <tr>\n",
       "      <th>product_id</th>\n",
       "      <th></th>\n",
       "    </tr>\n",
       "  </thead>\n",
       "  <tbody>\n",
       "    <tr>\n",
       "      <th>00066f42aeeb9f3007548bb9d3f33c38</th>\n",
       "      <td>Sunday</td>\n",
       "    </tr>\n",
       "    <tr>\n",
       "      <th>00088930e925c41fd95ebfe695fd2655</th>\n",
       "      <td>Tuesday</td>\n",
       "    </tr>\n",
       "  </tbody>\n",
       "</table>\n",
       "</div>"
      ],
      "text/plain": [
       "                                  weekday\n",
       "product_id                               \n",
       "00066f42aeeb9f3007548bb9d3f33c38   Sunday\n",
       "00088930e925c41fd95ebfe695fd2655  Tuesday"
      ]
     },
     "execution_count": 30,
     "metadata": {},
     "output_type": "execute_result"
    }
   ],
   "source": [
    "weekday_mode = purchases_items.loc[:,['product_id','weekday']]\\\n",
    "                                .groupby('product_id')['weekday']\\\n",
    "                                .agg(pd.Series.mode)\\\n",
    "                                .to_frame()\n",
    "weekday_mode.head(2)"
   ]
  },
  {
   "cell_type": "markdown",
   "metadata": {},
   "source": [
    "В датафрейме `weekday_mode` для каждого товара перечислены дни недели, когда этот товар покупается чаще всего. Некоторые товары покупаются одинаково часто в течение нескольких дней недели."
   ]
  },
  {
   "cell_type": "code",
   "execution_count": 31,
   "metadata": {},
   "outputs": [
    {
     "data": {
      "text/html": [
       "<div>\n",
       "<style scoped>\n",
       "    .dataframe tbody tr th:only-of-type {\n",
       "        vertical-align: middle;\n",
       "    }\n",
       "\n",
       "    .dataframe tbody tr th {\n",
       "        vertical-align: top;\n",
       "    }\n",
       "\n",
       "    .dataframe thead th {\n",
       "        text-align: right;\n",
       "    }\n",
       "</style>\n",
       "<table border=\"1\" class=\"dataframe\">\n",
       "  <thead>\n",
       "    <tr style=\"text-align: right;\">\n",
       "      <th></th>\n",
       "      <th>weekday</th>\n",
       "    </tr>\n",
       "    <tr>\n",
       "      <th>product_id</th>\n",
       "      <th></th>\n",
       "    </tr>\n",
       "  </thead>\n",
       "  <tbody>\n",
       "    <tr>\n",
       "      <th>00066f42aeeb9f3007548bb9d3f33c38</th>\n",
       "      <td>Sunday</td>\n",
       "    </tr>\n",
       "    <tr>\n",
       "      <th>00088930e925c41fd95ebfe695fd2655</th>\n",
       "      <td>Tuesday</td>\n",
       "    </tr>\n",
       "    <tr>\n",
       "      <th>0009406fd7479715e4bef61dd91f2462</th>\n",
       "      <td>Thursday</td>\n",
       "    </tr>\n",
       "    <tr>\n",
       "      <th>000b8f95fcb9e0096488278317764d19</th>\n",
       "      <td>[Friday, Wednesday]</td>\n",
       "    </tr>\n",
       "    <tr>\n",
       "      <th>000d9be29b5207b54e86aa1b1ac54872</th>\n",
       "      <td>Tuesday</td>\n",
       "    </tr>\n",
       "    <tr>\n",
       "      <th>...</th>\n",
       "      <td>...</td>\n",
       "    </tr>\n",
       "    <tr>\n",
       "      <th>fff6177642830a9a94a0f2cba5e476d1</th>\n",
       "      <td>[Saturday, Sunday]</td>\n",
       "    </tr>\n",
       "    <tr>\n",
       "      <th>fff81cc3158d2725c0655ab9ba0f712c</th>\n",
       "      <td>Monday</td>\n",
       "    </tr>\n",
       "    <tr>\n",
       "      <th>fff9553ac224cec9d15d49f5a263411f</th>\n",
       "      <td>Friday</td>\n",
       "    </tr>\n",
       "    <tr>\n",
       "      <th>fffdb2d0ec8d6a61f0a0a0db3f25b441</th>\n",
       "      <td>Tuesday</td>\n",
       "    </tr>\n",
       "    <tr>\n",
       "      <th>fffe9eeff12fcbd74a2f2b007dde0c58</th>\n",
       "      <td>Wednesday</td>\n",
       "    </tr>\n",
       "  </tbody>\n",
       "</table>\n",
       "<p>32951 rows × 1 columns</p>\n",
       "</div>"
      ],
      "text/plain": [
       "                                              weekday\n",
       "product_id                                           \n",
       "00066f42aeeb9f3007548bb9d3f33c38               Sunday\n",
       "00088930e925c41fd95ebfe695fd2655              Tuesday\n",
       "0009406fd7479715e4bef61dd91f2462             Thursday\n",
       "000b8f95fcb9e0096488278317764d19  [Friday, Wednesday]\n",
       "000d9be29b5207b54e86aa1b1ac54872              Tuesday\n",
       "...                                               ...\n",
       "fff6177642830a9a94a0f2cba5e476d1   [Saturday, Sunday]\n",
       "fff81cc3158d2725c0655ab9ba0f712c               Monday\n",
       "fff9553ac224cec9d15d49f5a263411f               Friday\n",
       "fffdb2d0ec8d6a61f0a0a0db3f25b441              Tuesday\n",
       "fffe9eeff12fcbd74a2f2b007dde0c58            Wednesday\n",
       "\n",
       "[32951 rows x 1 columns]"
      ]
     },
     "execution_count": 31,
     "metadata": {},
     "output_type": "execute_result"
    }
   ],
   "source": [
    "weekday_mode"
   ]
  },
  {
   "cell_type": "markdown",
   "metadata": {},
   "source": [
    "# 4. Сколько у каждого из пользователей в среднем покупок в неделю (по месяцам)?    \n",
    "\n",
    "Датой покупки будем считать дату создания заказа."
   ]
  },
  {
   "cell_type": "code",
   "execution_count": 32,
   "metadata": {},
   "outputs": [
    {
     "name": "stdout",
     "output_type": "stream",
     "text": [
      "Первая дата покупки в датасете: 2016-09-04 21:15:19\n",
      "Последняя дата покупки в датасете: 2018-09-03 09:06:57\n"
     ]
    }
   ],
   "source": [
    "print(\"Первая дата покупки в датасете:\", customers_purchases.order_purchase_timestamp.min())\n",
    "print(\"Последняя дата покупки в датасете:\", customers_purchases.order_purchase_timestamp.max())"
   ]
  },
  {
   "cell_type": "code",
   "execution_count": 33,
   "metadata": {},
   "outputs": [],
   "source": [
    "# добавляем колонки с месяцем и годм покупки\n",
    "customers_purchases['purchase_year'] = customers_purchases.order_purchase_timestamp.dt.year\n",
    "customers_purchases['purchase_month'] = customers_purchases.order_purchase_timestamp.dt.month"
   ]
  },
  {
   "cell_type": "markdown",
   "metadata": {},
   "source": [
    "Сделаем группировку: посчитаем общее число заказов для каждого клиента в разбивке по годам и месяцам. Добавляем колонку с числом дней каждого месяца.  \n",
    "Поскольку 9-ые месяцы 2016 и 2018 годов представлены с датасете не полностью - исключим эти месяцы их расчета, ведь в датасете заведомо содержится информация о меньшем числе покупок в эти месяцы, чем в остальные."
   ]
  },
  {
   "cell_type": "code",
   "execution_count": 34,
   "metadata": {},
   "outputs": [],
   "source": [
    "purchases_by_cust_year_month = customers_purchases.query('order_purchase_timestamp >= \"2017-01-01\" and \\\n",
    "                                                        order_purchase_timestamp < \"2018-01-01\"')\\\n",
    "                                                    .groupby(['customer_unique_id',\\\n",
    "                                                      'purchase_year',\\\n",
    "                                                      'purchase_month', \\\n",
    "                                                      customers_purchases.order_purchase_timestamp.dt.days_in_month])\\\n",
    "                                                    .agg({'order_id':'count'})\\\n",
    "                                                    .reset_index()\\\n",
    "                                                    .rename(columns = {'order_purchase_timestamp':'days_in_month',\\\n",
    "                                                                       'order_id':'num_orders'})"
   ]
  },
  {
   "cell_type": "markdown",
   "metadata": {},
   "source": [
    "Посчитаем число недель в каждом месяце"
   ]
  },
  {
   "cell_type": "code",
   "execution_count": 35,
   "metadata": {},
   "outputs": [],
   "source": [
    "purchases_by_cust_year_month = purchases_by_cust_year_month\\\n",
    "                                                .assign(weeks_in_month = purchases_by_cust_year_month.days_in_month/7)\\\n",
    "                                                .round(2)"
   ]
  },
  {
   "cell_type": "markdown",
   "metadata": {},
   "source": [
    "Посчитаем среднее число заказов в неделю по месяцам для каждого пользователя"
   ]
  },
  {
   "cell_type": "code",
   "execution_count": 36,
   "metadata": {},
   "outputs": [],
   "source": [
    "av_purch_in_week = purchases_by_cust_year_month\\\n",
    "                                    .assign(av_purch_in_week = \\\n",
    "                                    purchases_by_cust_year_month.num_orders/purchases_by_cust_year_month.weeks_in_month)"
   ]
  },
  {
   "cell_type": "markdown",
   "metadata": {},
   "source": [
    "В датафрейме `av_purch_in_week` содержится информация о среднем количестве покупок в неделю по месяцам для каждого клиента (колонка `av_purch_in_week`)"
   ]
  },
  {
   "cell_type": "code",
   "execution_count": 37,
   "metadata": {},
   "outputs": [
    {
     "data": {
      "text/html": [
       "<div>\n",
       "<style scoped>\n",
       "    .dataframe tbody tr th:only-of-type {\n",
       "        vertical-align: middle;\n",
       "    }\n",
       "\n",
       "    .dataframe tbody tr th {\n",
       "        vertical-align: top;\n",
       "    }\n",
       "\n",
       "    .dataframe thead th {\n",
       "        text-align: right;\n",
       "    }\n",
       "</style>\n",
       "<table border=\"1\" class=\"dataframe\">\n",
       "  <thead>\n",
       "    <tr style=\"text-align: right;\">\n",
       "      <th></th>\n",
       "      <th>customer_unique_id</th>\n",
       "      <th>purchase_year</th>\n",
       "      <th>purchase_month</th>\n",
       "      <th>days_in_month</th>\n",
       "      <th>num_orders</th>\n",
       "      <th>weeks_in_month</th>\n",
       "      <th>av_purch_in_week</th>\n",
       "    </tr>\n",
       "  </thead>\n",
       "  <tbody>\n",
       "    <tr>\n",
       "      <th>0</th>\n",
       "      <td>0000f46a3911fa3c0805444483337064</td>\n",
       "      <td>2017</td>\n",
       "      <td>3</td>\n",
       "      <td>31</td>\n",
       "      <td>1</td>\n",
       "      <td>4.43</td>\n",
       "      <td>0.225734</td>\n",
       "    </tr>\n",
       "    <tr>\n",
       "      <th>25028</th>\n",
       "      <td>92e7f6715b56ac7e83dc41a81e16cce9</td>\n",
       "      <td>2017</td>\n",
       "      <td>5</td>\n",
       "      <td>31</td>\n",
       "      <td>1</td>\n",
       "      <td>4.43</td>\n",
       "      <td>0.225734</td>\n",
       "    </tr>\n",
       "    <tr>\n",
       "      <th>25027</th>\n",
       "      <td>92e2600b1049f75778bc8dc7aababdf8</td>\n",
       "      <td>2017</td>\n",
       "      <td>5</td>\n",
       "      <td>31</td>\n",
       "      <td>1</td>\n",
       "      <td>4.43</td>\n",
       "      <td>0.225734</td>\n",
       "    </tr>\n",
       "    <tr>\n",
       "      <th>25026</th>\n",
       "      <td>92e0da7e678f9544ce9a1f6119c0fc20</td>\n",
       "      <td>2017</td>\n",
       "      <td>3</td>\n",
       "      <td>31</td>\n",
       "      <td>1</td>\n",
       "      <td>4.43</td>\n",
       "      <td>0.225734</td>\n",
       "    </tr>\n",
       "    <tr>\n",
       "      <th>25025</th>\n",
       "      <td>92e0b708c21b0c3cfb1a3ea8fd807529</td>\n",
       "      <td>2017</td>\n",
       "      <td>5</td>\n",
       "      <td>31</td>\n",
       "      <td>1</td>\n",
       "      <td>4.43</td>\n",
       "      <td>0.225734</td>\n",
       "    </tr>\n",
       "    <tr>\n",
       "      <th>...</th>\n",
       "      <td>...</td>\n",
       "      <td>...</td>\n",
       "      <td>...</td>\n",
       "      <td>...</td>\n",
       "      <td>...</td>\n",
       "      <td>...</td>\n",
       "      <td>...</td>\n",
       "    </tr>\n",
       "    <tr>\n",
       "      <th>22529</th>\n",
       "      <td>83e7958a94bd7f74a9414d8782f87628</td>\n",
       "      <td>2017</td>\n",
       "      <td>1</td>\n",
       "      <td>31</td>\n",
       "      <td>4</td>\n",
       "      <td>4.43</td>\n",
       "      <td>0.902935</td>\n",
       "    </tr>\n",
       "    <tr>\n",
       "      <th>6420</th>\n",
       "      <td>25a560b9a6006157838aab1bdbd68624</td>\n",
       "      <td>2017</td>\n",
       "      <td>4</td>\n",
       "      <td>30</td>\n",
       "      <td>4</td>\n",
       "      <td>4.29</td>\n",
       "      <td>0.932401</td>\n",
       "    </tr>\n",
       "    <tr>\n",
       "      <th>30109</th>\n",
       "      <td>b08fab27d47a1eb6deda07bfd965ad43</td>\n",
       "      <td>2017</td>\n",
       "      <td>9</td>\n",
       "      <td>30</td>\n",
       "      <td>4</td>\n",
       "      <td>4.29</td>\n",
       "      <td>0.932401</td>\n",
       "    </tr>\n",
       "    <tr>\n",
       "      <th>27642</th>\n",
       "      <td>a239b8e2fbce33780f1f1912e2ee5275</td>\n",
       "      <td>2017</td>\n",
       "      <td>2</td>\n",
       "      <td>28</td>\n",
       "      <td>4</td>\n",
       "      <td>4.00</td>\n",
       "      <td>1.000000</td>\n",
       "    </tr>\n",
       "    <tr>\n",
       "      <th>3276</th>\n",
       "      <td>12f5d6e1cbf93dafd9dcc19095df0b3d</td>\n",
       "      <td>2017</td>\n",
       "      <td>1</td>\n",
       "      <td>31</td>\n",
       "      <td>6</td>\n",
       "      <td>4.43</td>\n",
       "      <td>1.354402</td>\n",
       "    </tr>\n",
       "  </tbody>\n",
       "</table>\n",
       "<p>43641 rows × 7 columns</p>\n",
       "</div>"
      ],
      "text/plain": [
       "                     customer_unique_id  purchase_year  purchase_month  \\\n",
       "0      0000f46a3911fa3c0805444483337064           2017               3   \n",
       "25028  92e7f6715b56ac7e83dc41a81e16cce9           2017               5   \n",
       "25027  92e2600b1049f75778bc8dc7aababdf8           2017               5   \n",
       "25026  92e0da7e678f9544ce9a1f6119c0fc20           2017               3   \n",
       "25025  92e0b708c21b0c3cfb1a3ea8fd807529           2017               5   \n",
       "...                                 ...            ...             ...   \n",
       "22529  83e7958a94bd7f74a9414d8782f87628           2017               1   \n",
       "6420   25a560b9a6006157838aab1bdbd68624           2017               4   \n",
       "30109  b08fab27d47a1eb6deda07bfd965ad43           2017               9   \n",
       "27642  a239b8e2fbce33780f1f1912e2ee5275           2017               2   \n",
       "3276   12f5d6e1cbf93dafd9dcc19095df0b3d           2017               1   \n",
       "\n",
       "       days_in_month  num_orders  weeks_in_month  av_purch_in_week  \n",
       "0                 31           1            4.43          0.225734  \n",
       "25028             31           1            4.43          0.225734  \n",
       "25027             31           1            4.43          0.225734  \n",
       "25026             31           1            4.43          0.225734  \n",
       "25025             31           1            4.43          0.225734  \n",
       "...              ...         ...             ...               ...  \n",
       "22529             31           4            4.43          0.902935  \n",
       "6420              30           4            4.29          0.932401  \n",
       "30109             30           4            4.29          0.932401  \n",
       "27642             28           4            4.00          1.000000  \n",
       "3276              31           6            4.43          1.354402  \n",
       "\n",
       "[43641 rows x 7 columns]"
      ]
     },
     "execution_count": 37,
     "metadata": {},
     "output_type": "execute_result"
    }
   ],
   "source": [
    "av_purch_in_week.sort_values('av_purch_in_week')"
   ]
  },
  {
   "cell_type": "markdown",
   "metadata": {},
   "source": [
    "# 5. Когортный анализ пользователей. Какая когорта в период с января по декабрь характеризуется самым высоким retention на 3й месяц?\n",
    "Будем объединять пользователей в когорты по дате первой покупки.   \n",
    "Визуализируем распределение числа покупок по месяцам, чтобы понять, с какими когортами будем работать. По графику видим, что полный набор когорт за весь календарный год может быть в 2017 году."
   ]
  },
  {
   "cell_type": "code",
   "execution_count": 38,
   "metadata": {},
   "outputs": [
    {
     "data": {
      "text/plain": [
       "<Axes: xlabel='order_purchase_timestamp', ylabel='Count'>"
      ]
     },
     "execution_count": 38,
     "metadata": {},
     "output_type": "execute_result"
    },
    {
     "data": {
      "image/png": "[encoded data removed]",
      "text/plain": [
       "<Figure size 800x480 with 1 Axes>"
      ]
     },
     "metadata": {},
     "output_type": "display_data"
    }
   ],
   "source": [
    "from matplotlib.pyplot import figure\n",
    "figure(figsize=(10, 6), dpi=80)\n",
    "sns.histplot(data = purchases, x= 'order_purchase_timestamp', bins = 30)"
   ]
  },
  {
   "cell_type": "markdown",
   "metadata": {},
   "source": [
    "Необходимо извлечь значения года и месяца из даты создания заказа, т.к. нас интересуют когорты по месяцам."
   ]
  },
  {
   "cell_type": "code",
   "execution_count": 39,
   "metadata": {},
   "outputs": [],
   "source": [
    "customers_purchases['order_YM'] = customers_purchases.order_purchase_timestamp.dt.strftime('%Y-%m')"
   ]
  },
  {
   "cell_type": "markdown",
   "metadata": {},
   "source": [
    "Группируем таблицу по id пользователя для того, чтобы получить год и месяц первого заказа для каждого пользователя"
   ]
  },
  {
   "cell_type": "code",
   "execution_count": 40,
   "metadata": {},
   "outputs": [],
   "source": [
    "first_orders_YM = customers_purchases.groupby('customer_unique_id')\\\n",
    "                                    .agg({'order_YM' : 'min'})\\\n",
    "                                    .reset_index()\\\n",
    "                                    .rename(columns = {'order_YM':'first_order_YM'})"
   ]
  },
  {
   "cell_type": "markdown",
   "metadata": {},
   "source": [
    "Добавляем колонку с информацией о месяце первого заказа в таблицу `customers_purchases`"
   ]
  },
  {
   "cell_type": "code",
   "execution_count": 41,
   "metadata": {},
   "outputs": [],
   "source": [
    "orders_merged = customers_purchases.merge(first_orders_YM, how = 'inner', on = 'customer_unique_id')"
   ]
  },
  {
   "cell_type": "markdown",
   "metadata": {},
   "source": [
    "Делаем группировку - создаем когорты на основании информации о месяце первого заказа + добавляем даты последующих заказов в этих когортах"
   ]
  },
  {
   "cell_type": "code",
   "execution_count": 42,
   "metadata": {},
   "outputs": [],
   "source": [
    "cohorts_num_users = orders_merged.groupby(['first_order_YM','order_YM'])\\\n",
    "                                 .agg({'customer_unique_id': pd.Series.nunique})\\\n",
    "                                 .reset_index().rename(columns = {'first_order_YM':'cohort',\\\n",
    "                                                                  'order_YM':'period',\\\n",
    "                                                                  'customer_unique_id':'total_users'})"
   ]
  },
  {
   "cell_type": "markdown",
   "metadata": {},
   "source": [
    "Вводим нумерацию месяцев покупок для каждой когорты: для этого задаем функцию `cohort_period`"
   ]
  },
  {
   "cell_type": "code",
   "execution_count": 43,
   "metadata": {},
   "outputs": [
    {
     "name": "stderr",
     "output_type": "stream",
     "text": [
      "C:\\Users\\Ekaterina\\AppData\\Local\\Temp\\ipykernel_13208\\1611842596.py:4: FutureWarning: Not prepending group keys to the result index of transform-like apply. In the future, the group keys will be included in the index, regardless of whether the applied function returns a like-indexed object.\n",
      "To preserve the previous behavior, use\n",
      "\n",
      "\t>>> .groupby(..., group_keys=False)\n",
      "\n",
      "To adopt the future behavior and silence this warning, use \n",
      "\n",
      "\t>>> .groupby(..., group_keys=True)\n",
      "  cohorts_num_users = cohorts_num_users.groupby('cohort').apply(cohort_period)\n"
     ]
    },
    {
     "data": {
      "text/html": [
       "<div>\n",
       "<style scoped>\n",
       "    .dataframe tbody tr th:only-of-type {\n",
       "        vertical-align: middle;\n",
       "    }\n",
       "\n",
       "    .dataframe tbody tr th {\n",
       "        vertical-align: top;\n",
       "    }\n",
       "\n",
       "    .dataframe thead th {\n",
       "        text-align: right;\n",
       "    }\n",
       "</style>\n",
       "<table border=\"1\" class=\"dataframe\">\n",
       "  <thead>\n",
       "    <tr style=\"text-align: right;\">\n",
       "      <th></th>\n",
       "      <th>cohort</th>\n",
       "      <th>period</th>\n",
       "      <th>total_users</th>\n",
       "      <th>cohort_period</th>\n",
       "    </tr>\n",
       "  </thead>\n",
       "  <tbody>\n",
       "    <tr>\n",
       "      <th>0</th>\n",
       "      <td>2016-09</td>\n",
       "      <td>2016-09</td>\n",
       "      <td>2</td>\n",
       "      <td>1</td>\n",
       "    </tr>\n",
       "    <tr>\n",
       "      <th>1</th>\n",
       "      <td>2016-10</td>\n",
       "      <td>2016-10</td>\n",
       "      <td>290</td>\n",
       "      <td>1</td>\n",
       "    </tr>\n",
       "  </tbody>\n",
       "</table>\n",
       "</div>"
      ],
      "text/plain": [
       "    cohort   period  total_users  cohort_period\n",
       "0  2016-09  2016-09            2              1\n",
       "1  2016-10  2016-10          290              1"
      ]
     },
     "execution_count": 43,
     "metadata": {},
     "output_type": "execute_result"
    }
   ],
   "source": [
    "def cohort_period(df):\n",
    "     df['cohort_period'] = np.arange(len(df)) + 1\n",
    "     return df\n",
    "cohorts_num_users = cohorts_num_users.groupby('cohort').apply(cohort_period)\n",
    "cohorts_num_users.head(2)"
   ]
  },
  {
   "cell_type": "markdown",
   "metadata": {},
   "source": [
    "Меняем индексацию датафрейма с когортами для того, чтобы извлечь информацию об общем числе пользователей в первом месяце каждой из когорт (исходное общее число необходимо для подсчета retention в долях или процентах)"
   ]
  },
  {
   "cell_type": "code",
   "execution_count": 44,
   "metadata": {},
   "outputs": [
    {
     "data": {
      "text/html": [
       "<div>\n",
       "<style scoped>\n",
       "    .dataframe tbody tr th:only-of-type {\n",
       "        vertical-align: middle;\n",
       "    }\n",
       "\n",
       "    .dataframe tbody tr th {\n",
       "        vertical-align: top;\n",
       "    }\n",
       "\n",
       "    .dataframe thead th {\n",
       "        text-align: right;\n",
       "    }\n",
       "</style>\n",
       "<table border=\"1\" class=\"dataframe\">\n",
       "  <thead>\n",
       "    <tr style=\"text-align: right;\">\n",
       "      <th></th>\n",
       "      <th></th>\n",
       "      <th>period</th>\n",
       "      <th>total_users</th>\n",
       "    </tr>\n",
       "    <tr>\n",
       "      <th>cohort</th>\n",
       "      <th>cohort_period</th>\n",
       "      <th></th>\n",
       "      <th></th>\n",
       "    </tr>\n",
       "  </thead>\n",
       "  <tbody>\n",
       "    <tr>\n",
       "      <th>2016-09</th>\n",
       "      <th>1</th>\n",
       "      <td>2016-09</td>\n",
       "      <td>2</td>\n",
       "    </tr>\n",
       "    <tr>\n",
       "      <th>2016-10</th>\n",
       "      <th>1</th>\n",
       "      <td>2016-10</td>\n",
       "      <td>290</td>\n",
       "    </tr>\n",
       "  </tbody>\n",
       "</table>\n",
       "</div>"
      ],
      "text/plain": [
       "                        period  total_users\n",
       "cohort  cohort_period                      \n",
       "2016-09 1              2016-09            2\n",
       "2016-10 1              2016-10          290"
      ]
     },
     "execution_count": 44,
     "metadata": {},
     "output_type": "execute_result"
    }
   ],
   "source": [
    "cohorts_num_users = cohorts_num_users.reset_index()\\\n",
    "                                     .set_index(['cohort', 'cohort_period'])\\\n",
    "                                     .drop('index', axis = 1)\n",
    "cohorts_num_users.head(2)"
   ]
  },
  {
   "cell_type": "markdown",
   "metadata": {},
   "source": [
    "Посчитаем общее число пользователей в первом месяце каждой из когорт:"
   ]
  },
  {
   "cell_type": "code",
   "execution_count": 45,
   "metadata": {},
   "outputs": [
    {
     "data": {
      "text/plain": [
       "cohort\n",
       "2016-09       2\n",
       "2016-10     290\n",
       "2016-12       1\n",
       "2017-01     752\n",
       "2017-02    1690\n",
       "Name: total_users, dtype: int64"
      ]
     },
     "execution_count": 45,
     "metadata": {},
     "output_type": "execute_result"
    }
   ],
   "source": [
    "cohort_group_size = cohorts_num_users['total_users'].groupby(level=0).first()\n",
    "cohort_group_size.head()"
   ]
  },
  {
   "cell_type": "markdown",
   "metadata": {},
   "source": [
    "Посчитаем retention по когортам в долях:"
   ]
  },
  {
   "cell_type": "code",
   "execution_count": 46,
   "metadata": {},
   "outputs": [
    {
     "data": {
      "text/html": [
       "<div>\n",
       "<style scoped>\n",
       "    .dataframe tbody tr th:only-of-type {\n",
       "        vertical-align: middle;\n",
       "    }\n",
       "\n",
       "    .dataframe tbody tr th {\n",
       "        vertical-align: top;\n",
       "    }\n",
       "\n",
       "    .dataframe thead th {\n",
       "        text-align: right;\n",
       "    }\n",
       "</style>\n",
       "<table border=\"1\" class=\"dataframe\">\n",
       "  <thead>\n",
       "    <tr style=\"text-align: right;\">\n",
       "      <th>cohort</th>\n",
       "      <th>2016-09</th>\n",
       "      <th>2016-10</th>\n",
       "      <th>2016-12</th>\n",
       "      <th>2017-01</th>\n",
       "      <th>2017-02</th>\n",
       "      <th>2017-03</th>\n",
       "      <th>2017-04</th>\n",
       "      <th>2017-05</th>\n",
       "      <th>2017-06</th>\n",
       "      <th>2017-07</th>\n",
       "      <th>...</th>\n",
       "      <th>2017-11</th>\n",
       "      <th>2017-12</th>\n",
       "      <th>2018-01</th>\n",
       "      <th>2018-02</th>\n",
       "      <th>2018-03</th>\n",
       "      <th>2018-04</th>\n",
       "      <th>2018-05</th>\n",
       "      <th>2018-06</th>\n",
       "      <th>2018-07</th>\n",
       "      <th>2018-08</th>\n",
       "    </tr>\n",
       "    <tr>\n",
       "      <th>cohort_period</th>\n",
       "      <th></th>\n",
       "      <th></th>\n",
       "      <th></th>\n",
       "      <th></th>\n",
       "      <th></th>\n",
       "      <th></th>\n",
       "      <th></th>\n",
       "      <th></th>\n",
       "      <th></th>\n",
       "      <th></th>\n",
       "      <th></th>\n",
       "      <th></th>\n",
       "      <th></th>\n",
       "      <th></th>\n",
       "      <th></th>\n",
       "      <th></th>\n",
       "      <th></th>\n",
       "      <th></th>\n",
       "      <th></th>\n",
       "      <th></th>\n",
       "      <th></th>\n",
       "    </tr>\n",
       "  </thead>\n",
       "  <tbody>\n",
       "    <tr>\n",
       "      <th>1</th>\n",
       "      <td>1.0</td>\n",
       "      <td>1.000000</td>\n",
       "      <td>1.0</td>\n",
       "      <td>1.000000</td>\n",
       "      <td>1.000000</td>\n",
       "      <td>1.000000</td>\n",
       "      <td>1.000000</td>\n",
       "      <td>1.000000</td>\n",
       "      <td>1.000000</td>\n",
       "      <td>1.000000</td>\n",
       "      <td>...</td>\n",
       "      <td>1.000000</td>\n",
       "      <td>1.000000</td>\n",
       "      <td>1.000000</td>\n",
       "      <td>1.000000</td>\n",
       "      <td>1.00000</td>\n",
       "      <td>1.000000</td>\n",
       "      <td>1.000000</td>\n",
       "      <td>1.000000</td>\n",
       "      <td>1.000000</td>\n",
       "      <td>1.000000</td>\n",
       "    </tr>\n",
       "    <tr>\n",
       "      <th>2</th>\n",
       "      <td>NaN</td>\n",
       "      <td>0.003448</td>\n",
       "      <td>1.0</td>\n",
       "      <td>0.003989</td>\n",
       "      <td>0.002367</td>\n",
       "      <td>0.005056</td>\n",
       "      <td>0.006022</td>\n",
       "      <td>0.004801</td>\n",
       "      <td>0.004513</td>\n",
       "      <td>0.005233</td>\n",
       "      <td>...</td>\n",
       "      <td>0.005565</td>\n",
       "      <td>0.002207</td>\n",
       "      <td>0.003309</td>\n",
       "      <td>0.003619</td>\n",
       "      <td>0.00404</td>\n",
       "      <td>0.005823</td>\n",
       "      <td>0.005162</td>\n",
       "      <td>0.004223</td>\n",
       "      <td>0.005152</td>\n",
       "      <td>0.000161</td>\n",
       "    </tr>\n",
       "  </tbody>\n",
       "</table>\n",
       "<p>2 rows × 23 columns</p>\n",
       "</div>"
      ],
      "text/plain": [
       "cohort         2016-09   2016-10  2016-12   2017-01   2017-02   2017-03  \\\n",
       "cohort_period                                                             \n",
       "1                  1.0  1.000000      1.0  1.000000  1.000000  1.000000   \n",
       "2                  NaN  0.003448      1.0  0.003989  0.002367  0.005056   \n",
       "\n",
       "cohort          2017-04   2017-05   2017-06   2017-07  ...   2017-11  \\\n",
       "cohort_period                                          ...             \n",
       "1              1.000000  1.000000  1.000000  1.000000  ...  1.000000   \n",
       "2              0.006022  0.004801  0.004513  0.005233  ...  0.005565   \n",
       "\n",
       "cohort          2017-12   2018-01   2018-02  2018-03   2018-04   2018-05  \\\n",
       "cohort_period                                                              \n",
       "1              1.000000  1.000000  1.000000  1.00000  1.000000  1.000000   \n",
       "2              0.002207  0.003309  0.003619  0.00404  0.005823  0.005162   \n",
       "\n",
       "cohort          2018-06   2018-07   2018-08  \n",
       "cohort_period                                \n",
       "1              1.000000  1.000000  1.000000  \n",
       "2              0.004223  0.005152  0.000161  \n",
       "\n",
       "[2 rows x 23 columns]"
      ]
     },
     "execution_count": 46,
     "metadata": {},
     "output_type": "execute_result"
    }
   ],
   "source": [
    "user_retention = cohorts_num_users['total_users'].unstack(0).divide(cohort_group_size, axis=1)\n",
    "user_retention.head(2)"
   ]
  },
  {
   "cell_type": "markdown",
   "metadata": {},
   "source": [
    "Транспонируем полученную таблицу с retention.  \n",
    "  \n",
    "Для того чтобы увидеть максимальное значение retention на 3 месяц после покупки, сортируем когорты по значениям в 4 месяце (1 месяц не учитываем, т.к. это и есть месяц покупки).  \n",
    "**Мы видим, что в 2017 году наибольшее значение retention на 3 месяц наблюдалось в когорте 2017-05**"
   ]
  },
  {
   "cell_type": "code",
   "execution_count": 47,
   "metadata": {},
   "outputs": [
    {
     "data": {
      "text/html": [
       "<div>\n",
       "<style scoped>\n",
       "    .dataframe tbody tr th:only-of-type {\n",
       "        vertical-align: middle;\n",
       "    }\n",
       "\n",
       "    .dataframe tbody tr th {\n",
       "        vertical-align: top;\n",
       "    }\n",
       "\n",
       "    .dataframe thead th {\n",
       "        text-align: right;\n",
       "    }\n",
       "</style>\n",
       "<table border=\"1\" class=\"dataframe\">\n",
       "  <thead>\n",
       "    <tr style=\"text-align: right;\">\n",
       "      <th>cohort_period</th>\n",
       "      <th>1</th>\n",
       "      <th>2</th>\n",
       "      <th>3</th>\n",
       "      <th>4</th>\n",
       "      <th>5</th>\n",
       "      <th>6</th>\n",
       "      <th>7</th>\n",
       "      <th>8</th>\n",
       "      <th>9</th>\n",
       "      <th>10</th>\n",
       "      <th>11</th>\n",
       "      <th>12</th>\n",
       "      <th>13</th>\n",
       "      <th>14</th>\n",
       "      <th>15</th>\n",
       "      <th>16</th>\n",
       "      <th>17</th>\n",
       "      <th>18</th>\n",
       "    </tr>\n",
       "    <tr>\n",
       "      <th>cohort</th>\n",
       "      <th></th>\n",
       "      <th></th>\n",
       "      <th></th>\n",
       "      <th></th>\n",
       "      <th></th>\n",
       "      <th></th>\n",
       "      <th></th>\n",
       "      <th></th>\n",
       "      <th></th>\n",
       "      <th></th>\n",
       "      <th></th>\n",
       "      <th></th>\n",
       "      <th></th>\n",
       "      <th></th>\n",
       "      <th></th>\n",
       "      <th></th>\n",
       "      <th></th>\n",
       "      <th></th>\n",
       "    </tr>\n",
       "  </thead>\n",
       "  <tbody>\n",
       "    <tr>\n",
       "      <th>2017-05</th>\n",
       "      <td>1.0</td>\n",
       "      <td>0.004801</td>\n",
       "      <td>0.004801</td>\n",
       "      <td>0.003954</td>\n",
       "      <td>0.003106</td>\n",
       "      <td>0.003389</td>\n",
       "      <td>0.004236</td>\n",
       "      <td>0.001412</td>\n",
       "      <td>0.002542</td>\n",
       "      <td>0.002542</td>\n",
       "      <td>0.002542</td>\n",
       "      <td>0.003389</td>\n",
       "      <td>0.002542</td>\n",
       "      <td>0.000282</td>\n",
       "      <td>0.001977</td>\n",
       "      <td>0.002259</td>\n",
       "      <td>NaN</td>\n",
       "      <td>NaN</td>\n",
       "    </tr>\n",
       "    <tr>\n",
       "      <th>2017-03</th>\n",
       "      <td>1.0</td>\n",
       "      <td>0.005056</td>\n",
       "      <td>0.003501</td>\n",
       "      <td>0.003890</td>\n",
       "      <td>0.003501</td>\n",
       "      <td>0.001556</td>\n",
       "      <td>0.001556</td>\n",
       "      <td>0.003112</td>\n",
       "      <td>0.003501</td>\n",
       "      <td>0.000778</td>\n",
       "      <td>0.003890</td>\n",
       "      <td>0.001167</td>\n",
       "      <td>0.002334</td>\n",
       "      <td>0.001167</td>\n",
       "      <td>0.001556</td>\n",
       "      <td>0.002334</td>\n",
       "      <td>0.000778</td>\n",
       "      <td>0.001556</td>\n",
       "    </tr>\n",
       "    <tr>\n",
       "      <th>2017-06</th>\n",
       "      <td>1.0</td>\n",
       "      <td>0.004513</td>\n",
       "      <td>0.003546</td>\n",
       "      <td>0.003868</td>\n",
       "      <td>0.002579</td>\n",
       "      <td>0.003868</td>\n",
       "      <td>0.003546</td>\n",
       "      <td>0.002257</td>\n",
       "      <td>0.001289</td>\n",
       "      <td>0.002257</td>\n",
       "      <td>0.003224</td>\n",
       "      <td>0.003224</td>\n",
       "      <td>0.001612</td>\n",
       "      <td>0.001289</td>\n",
       "      <td>0.001934</td>\n",
       "      <td>NaN</td>\n",
       "      <td>NaN</td>\n",
       "      <td>NaN</td>\n",
       "    </tr>\n",
       "    <tr>\n",
       "      <th>2017-12</th>\n",
       "      <td>1.0</td>\n",
       "      <td>0.002207</td>\n",
       "      <td>0.002759</td>\n",
       "      <td>0.003495</td>\n",
       "      <td>0.002575</td>\n",
       "      <td>0.002023</td>\n",
       "      <td>0.001655</td>\n",
       "      <td>0.000184</td>\n",
       "      <td>0.002207</td>\n",
       "      <td>NaN</td>\n",
       "      <td>NaN</td>\n",
       "      <td>NaN</td>\n",
       "      <td>NaN</td>\n",
       "      <td>NaN</td>\n",
       "      <td>NaN</td>\n",
       "      <td>NaN</td>\n",
       "      <td>NaN</td>\n",
       "      <td>NaN</td>\n",
       "    </tr>\n",
       "    <tr>\n",
       "      <th>2016-10</th>\n",
       "      <td>1.0</td>\n",
       "      <td>0.003448</td>\n",
       "      <td>0.003448</td>\n",
       "      <td>0.003448</td>\n",
       "      <td>0.003448</td>\n",
       "      <td>0.003448</td>\n",
       "      <td>0.003448</td>\n",
       "      <td>0.006897</td>\n",
       "      <td>0.006897</td>\n",
       "      <td>NaN</td>\n",
       "      <td>NaN</td>\n",
       "      <td>NaN</td>\n",
       "      <td>NaN</td>\n",
       "      <td>NaN</td>\n",
       "      <td>NaN</td>\n",
       "      <td>NaN</td>\n",
       "      <td>NaN</td>\n",
       "      <td>NaN</td>\n",
       "    </tr>\n",
       "  </tbody>\n",
       "</table>\n",
       "</div>"
      ],
      "text/plain": [
       "cohort_period   1         2         3         4         5         6   \\\n",
       "cohort                                                                 \n",
       "2017-05        1.0  0.004801  0.004801  0.003954  0.003106  0.003389   \n",
       "2017-03        1.0  0.005056  0.003501  0.003890  0.003501  0.001556   \n",
       "2017-06        1.0  0.004513  0.003546  0.003868  0.002579  0.003868   \n",
       "2017-12        1.0  0.002207  0.002759  0.003495  0.002575  0.002023   \n",
       "2016-10        1.0  0.003448  0.003448  0.003448  0.003448  0.003448   \n",
       "\n",
       "cohort_period        7         8         9         10        11        12  \\\n",
       "cohort                                                                      \n",
       "2017-05        0.004236  0.001412  0.002542  0.002542  0.002542  0.003389   \n",
       "2017-03        0.001556  0.003112  0.003501  0.000778  0.003890  0.001167   \n",
       "2017-06        0.003546  0.002257  0.001289  0.002257  0.003224  0.003224   \n",
       "2017-12        0.001655  0.000184  0.002207       NaN       NaN       NaN   \n",
       "2016-10        0.003448  0.006897  0.006897       NaN       NaN       NaN   \n",
       "\n",
       "cohort_period        13        14        15        16        17        18  \n",
       "cohort                                                                     \n",
       "2017-05        0.002542  0.000282  0.001977  0.002259       NaN       NaN  \n",
       "2017-03        0.002334  0.001167  0.001556  0.002334  0.000778  0.001556  \n",
       "2017-06        0.001612  0.001289  0.001934       NaN       NaN       NaN  \n",
       "2017-12             NaN       NaN       NaN       NaN       NaN       NaN  \n",
       "2016-10             NaN       NaN       NaN       NaN       NaN       NaN  "
      ]
     },
     "execution_count": 47,
     "metadata": {},
     "output_type": "execute_result"
    }
   ],
   "source": [
    "user_retention.T.sort_values(4, ascending=False).head()"
   ]
  },
  {
   "cell_type": "markdown",
   "metadata": {},
   "source": [
    "# 6. RFM-сегментация пользователей\n",
    "Кластеризация выпонена по метрикам: \n",
    "- **R** - время от последней покупки пользователя до текущей даты, \n",
    "- **F** - суммарное количество покупок у пользователя за всё время, \n",
    "- **M** - сумма покупок за всё время.   \n",
    "   \n",
    "Для каждого RFM-сегмента необходимо предложить границы метрик recency, frequency и monetary."
   ]
  },
  {
   "cell_type": "markdown",
   "metadata": {},
   "source": [
    "Объединяем 3 таблицы (`customers`, `purchases` и `items`), т.к. информация о покупателях, времени создания заказов (для показателей recency и frequency) и сумме покупок (monetary), содержится в разных исходных датафреймах.   \n",
    "  \n",
    "При построении RFM-сегментации также как и ранее учитываем только заказы, которые мы считаем покупками. Строки из дф `items`, которые относились к прочим заказам также исключаем из сводного дф."
   ]
  },
  {
   "cell_type": "code",
   "execution_count": 48,
   "metadata": {},
   "outputs": [
    {
     "data": {
      "text/html": [
       "<div>\n",
       "<style scoped>\n",
       "    .dataframe tbody tr th:only-of-type {\n",
       "        vertical-align: middle;\n",
       "    }\n",
       "\n",
       "    .dataframe tbody tr th {\n",
       "        vertical-align: top;\n",
       "    }\n",
       "\n",
       "    .dataframe thead th {\n",
       "        text-align: right;\n",
       "    }\n",
       "</style>\n",
       "<table border=\"1\" class=\"dataframe\">\n",
       "  <thead>\n",
       "    <tr style=\"text-align: right;\">\n",
       "      <th></th>\n",
       "      <th>customer_id</th>\n",
       "      <th>customer_unique_id</th>\n",
       "      <th>customer_zip_code_prefix</th>\n",
       "      <th>customer_city</th>\n",
       "      <th>customer_state</th>\n",
       "      <th>order_id</th>\n",
       "      <th>order_status</th>\n",
       "      <th>order_purchase_timestamp</th>\n",
       "      <th>order_approved_at</th>\n",
       "      <th>order_delivered_carrier_date</th>\n",
       "      <th>...</th>\n",
       "      <th>order_estimated_delivery_date</th>\n",
       "      <th>purchase_year</th>\n",
       "      <th>purchase_month</th>\n",
       "      <th>order_YM</th>\n",
       "      <th>order_item_id</th>\n",
       "      <th>product_id</th>\n",
       "      <th>seller_id</th>\n",
       "      <th>shipping_limit_date</th>\n",
       "      <th>price</th>\n",
       "      <th>freight_value</th>\n",
       "    </tr>\n",
       "  </thead>\n",
       "  <tbody>\n",
       "    <tr>\n",
       "      <th>0</th>\n",
       "      <td>3ce436f183e68e07877b285a838db11a</td>\n",
       "      <td>871766c5855e863f6eccc05f988b23cb</td>\n",
       "      <td>28013.0</td>\n",
       "      <td>campos dos goytacazes</td>\n",
       "      <td>RJ</td>\n",
       "      <td>00010242fe8c5a6d1ba2dd792cb16214</td>\n",
       "      <td>delivered</td>\n",
       "      <td>2017-09-13 08:59:02</td>\n",
       "      <td>2017-09-13 09:45:35</td>\n",
       "      <td>2017-09-19 18:34:16</td>\n",
       "      <td>...</td>\n",
       "      <td>2017-09-29</td>\n",
       "      <td>2017.0</td>\n",
       "      <td>9.0</td>\n",
       "      <td>2017-09</td>\n",
       "      <td>1</td>\n",
       "      <td>4244733e06e7ecb4970a6e2683c13e61</td>\n",
       "      <td>48436dade18ac8b2bce089ec2a041202</td>\n",
       "      <td>2017-09-19 09:45:35</td>\n",
       "      <td>58.9</td>\n",
       "      <td>13.29</td>\n",
       "    </tr>\n",
       "    <tr>\n",
       "      <th>1</th>\n",
       "      <td>f6dd3ec061db4e3987629fe6b26e5cce</td>\n",
       "      <td>eb28e67c4c0b83846050ddfb8a35d051</td>\n",
       "      <td>15775.0</td>\n",
       "      <td>santa fe do sul</td>\n",
       "      <td>SP</td>\n",
       "      <td>00018f77f2f0320c557190d7a144bdd3</td>\n",
       "      <td>delivered</td>\n",
       "      <td>2017-04-26 10:53:06</td>\n",
       "      <td>2017-04-26 11:05:13</td>\n",
       "      <td>2017-05-04 14:35:00</td>\n",
       "      <td>...</td>\n",
       "      <td>2017-05-15</td>\n",
       "      <td>2017.0</td>\n",
       "      <td>4.0</td>\n",
       "      <td>2017-04</td>\n",
       "      <td>1</td>\n",
       "      <td>e5f2d52b802189ee658865ca93d83a8f</td>\n",
       "      <td>dd7ddc04e1b6c2c614352b383efe2d36</td>\n",
       "      <td>2017-05-03 11:05:13</td>\n",
       "      <td>239.9</td>\n",
       "      <td>19.93</td>\n",
       "    </tr>\n",
       "  </tbody>\n",
       "</table>\n",
       "<p>2 rows × 21 columns</p>\n",
       "</div>"
      ],
      "text/plain": [
       "                        customer_id                customer_unique_id  \\\n",
       "0  3ce436f183e68e07877b285a838db11a  871766c5855e863f6eccc05f988b23cb   \n",
       "1  f6dd3ec061db4e3987629fe6b26e5cce  eb28e67c4c0b83846050ddfb8a35d051   \n",
       "\n",
       "   customer_zip_code_prefix          customer_city customer_state  \\\n",
       "0                   28013.0  campos dos goytacazes             RJ   \n",
       "1                   15775.0        santa fe do sul             SP   \n",
       "\n",
       "                           order_id order_status order_purchase_timestamp  \\\n",
       "0  00010242fe8c5a6d1ba2dd792cb16214    delivered      2017-09-13 08:59:02   \n",
       "1  00018f77f2f0320c557190d7a144bdd3    delivered      2017-04-26 10:53:06   \n",
       "\n",
       "    order_approved_at order_delivered_carrier_date  ...  \\\n",
       "0 2017-09-13 09:45:35          2017-09-19 18:34:16  ...   \n",
       "1 2017-04-26 11:05:13          2017-05-04 14:35:00  ...   \n",
       "\n",
       "  order_estimated_delivery_date purchase_year  purchase_month  order_YM  \\\n",
       "0                    2017-09-29        2017.0             9.0   2017-09   \n",
       "1                    2017-05-15        2017.0             4.0   2017-04   \n",
       "\n",
       "  order_item_id                        product_id  \\\n",
       "0             1  4244733e06e7ecb4970a6e2683c13e61   \n",
       "1             1  e5f2d52b802189ee658865ca93d83a8f   \n",
       "\n",
       "                          seller_id shipping_limit_date  price  freight_value  \n",
       "0  48436dade18ac8b2bce089ec2a041202 2017-09-19 09:45:35   58.9          13.29  \n",
       "1  dd7ddc04e1b6c2c614352b383efe2d36 2017-05-03 11:05:13  239.9          19.93  \n",
       "\n",
       "[2 rows x 21 columns]"
      ]
     },
     "execution_count": 48,
     "metadata": {},
     "output_type": "execute_result"
    }
   ],
   "source": [
    "customers_purchases_items = customers_purchases.merge(items, how = 'right', on = 'order_id')\\\n",
    "                                                .query(' not order_status.isna()')\n",
    "customers_purchases_items.head(2)"
   ]
  },
  {
   "cell_type": "code",
   "execution_count": 49,
   "metadata": {},
   "outputs": [
    {
     "data": {
      "text/plain": [
       "array(['delivered', 'shipped', 'invoiced', 'processing', 'approved'],\n",
       "      dtype=object)"
      ]
     },
     "execution_count": 49,
     "metadata": {},
     "output_type": "execute_result"
    }
   ],
   "source": [
    "# статусы заказов в полученном дф\n",
    "customers_purchases_items.order_status.unique()"
   ]
  },
  {
   "cell_type": "markdown",
   "metadata": {},
   "source": [
    "Сгруппируем данные по заказам, а не по товарам (как было в дф `items`, с которым мы сделали merge)"
   ]
  },
  {
   "cell_type": "code",
   "execution_count": 50,
   "metadata": {},
   "outputs": [
    {
     "data": {
      "text/html": [
       "<div>\n",
       "<style scoped>\n",
       "    .dataframe tbody tr th:only-of-type {\n",
       "        vertical-align: middle;\n",
       "    }\n",
       "\n",
       "    .dataframe tbody tr th {\n",
       "        vertical-align: top;\n",
       "    }\n",
       "\n",
       "    .dataframe thead th {\n",
       "        text-align: right;\n",
       "    }\n",
       "</style>\n",
       "<table border=\"1\" class=\"dataframe\">\n",
       "  <thead>\n",
       "    <tr style=\"text-align: right;\">\n",
       "      <th></th>\n",
       "      <th>customer_unique_id</th>\n",
       "      <th>order_id</th>\n",
       "      <th>order_purchase_timestamp</th>\n",
       "      <th>price</th>\n",
       "    </tr>\n",
       "  </thead>\n",
       "  <tbody>\n",
       "    <tr>\n",
       "      <th>0</th>\n",
       "      <td>0000366f3b9a7992bf8c76cfdf3221e2</td>\n",
       "      <td>e22acc9c116caa3f2b7121bbb380d08e</td>\n",
       "      <td>2018-05-10 10:56:27</td>\n",
       "      <td>129.9</td>\n",
       "    </tr>\n",
       "    <tr>\n",
       "      <th>1</th>\n",
       "      <td>0000b849f77a49e4a4ce2b2a4ca5be3f</td>\n",
       "      <td>3594e05a005ac4d06a72673270ef9ec9</td>\n",
       "      <td>2018-05-07 11:11:27</td>\n",
       "      <td>18.9</td>\n",
       "    </tr>\n",
       "  </tbody>\n",
       "</table>\n",
       "</div>"
      ],
      "text/plain": [
       "                 customer_unique_id                          order_id  \\\n",
       "0  0000366f3b9a7992bf8c76cfdf3221e2  e22acc9c116caa3f2b7121bbb380d08e   \n",
       "1  0000b849f77a49e4a4ce2b2a4ca5be3f  3594e05a005ac4d06a72673270ef9ec9   \n",
       "\n",
       "  order_purchase_timestamp  price  \n",
       "0      2018-05-10 10:56:27  129.9  \n",
       "1      2018-05-07 11:11:27   18.9  "
      ]
     },
     "execution_count": 50,
     "metadata": {},
     "output_type": "execute_result"
    }
   ],
   "source": [
    "purchases_price_date = customers_purchases_items.groupby(['customer_unique_id', 'order_id', 'order_purchase_timestamp'],\\\n",
    "                                                   as_index=False)\\\n",
    "                                                .agg({'price':'sum'})\n",
    "purchases_price_date.head(2)"
   ]
  },
  {
   "cell_type": "markdown",
   "metadata": {},
   "source": [
    "Будем проводить анализ пользователей за один год: для этого создадим переменные с \"сегодняшней\" датой (`now`) - числом на 1 день большим, чем последняя дата в исследуемом датасете, а также переменную 365 дней (`period`) для того, чтобы извлечь из общего  датасета только покупки, сделанные за \"последний год\""
   ]
  },
  {
   "cell_type": "code",
   "execution_count": 51,
   "metadata": {},
   "outputs": [
    {
     "data": {
      "text/plain": [
       "Timestamp('2018-09-04 09:06:57')"
      ]
     },
     "execution_count": 51,
     "metadata": {},
     "output_type": "execute_result"
    }
   ],
   "source": [
    "now = purchases['order_purchase_timestamp'].max() + timedelta(days=1)\n",
    "period = 365\n",
    "now"
   ]
  },
  {
   "cell_type": "markdown",
   "metadata": {},
   "source": [
    "Добавим колонку с числом дней, прошедших с даты последнего заказа по \"сегодняшнее\" число"
   ]
  },
  {
   "cell_type": "code",
   "execution_count": 52,
   "metadata": {},
   "outputs": [],
   "source": [
    "purchases_price_date['days_since_purchase'] = purchases_price_date['order_purchase_timestamp'].apply(lambda x: (now - x).days)"
   ]
  },
  {
   "cell_type": "markdown",
   "metadata": {},
   "source": [
    "Оставим строки с покупками, которые были выполнены не позднее, чем год назад, т.к. мы проводим анализ для последнего года"
   ]
  },
  {
   "cell_type": "code",
   "execution_count": 53,
   "metadata": {},
   "outputs": [
    {
     "data": {
      "text/html": [
       "<div>\n",
       "<style scoped>\n",
       "    .dataframe tbody tr th:only-of-type {\n",
       "        vertical-align: middle;\n",
       "    }\n",
       "\n",
       "    .dataframe tbody tr th {\n",
       "        vertical-align: top;\n",
       "    }\n",
       "\n",
       "    .dataframe thead th {\n",
       "        text-align: right;\n",
       "    }\n",
       "</style>\n",
       "<table border=\"1\" class=\"dataframe\">\n",
       "  <thead>\n",
       "    <tr style=\"text-align: right;\">\n",
       "      <th></th>\n",
       "      <th>customer_unique_id</th>\n",
       "      <th>order_id</th>\n",
       "      <th>order_purchase_timestamp</th>\n",
       "      <th>price</th>\n",
       "      <th>days_since_purchase</th>\n",
       "    </tr>\n",
       "  </thead>\n",
       "  <tbody>\n",
       "    <tr>\n",
       "      <th>0</th>\n",
       "      <td>0000366f3b9a7992bf8c76cfdf3221e2</td>\n",
       "      <td>e22acc9c116caa3f2b7121bbb380d08e</td>\n",
       "      <td>2018-05-10 10:56:27</td>\n",
       "      <td>129.9</td>\n",
       "      <td>116</td>\n",
       "    </tr>\n",
       "    <tr>\n",
       "      <th>1</th>\n",
       "      <td>0000b849f77a49e4a4ce2b2a4ca5be3f</td>\n",
       "      <td>3594e05a005ac4d06a72673270ef9ec9</td>\n",
       "      <td>2018-05-07 11:11:27</td>\n",
       "      <td>18.9</td>\n",
       "      <td>119</td>\n",
       "    </tr>\n",
       "  </tbody>\n",
       "</table>\n",
       "</div>"
      ],
      "text/plain": [
       "                 customer_unique_id                          order_id  \\\n",
       "0  0000366f3b9a7992bf8c76cfdf3221e2  e22acc9c116caa3f2b7121bbb380d08e   \n",
       "1  0000b849f77a49e4a4ce2b2a4ca5be3f  3594e05a005ac4d06a72673270ef9ec9   \n",
       "\n",
       "  order_purchase_timestamp  price  days_since_purchase  \n",
       "0      2018-05-10 10:56:27  129.9                  116  \n",
       "1      2018-05-07 11:11:27   18.9                  119  "
      ]
     },
     "execution_count": 53,
     "metadata": {},
     "output_type": "execute_result"
    }
   ],
   "source": [
    "purchases_price_date = purchases_price_date.query('days_since_purchase <= 365')\n",
    "purchases_price_date.head(2)"
   ]
  },
  {
   "cell_type": "markdown",
   "metadata": {},
   "source": [
    "Создадим колонки со значениями ***recency*** (дата последней покупки), ***frequency*** (число покупок за год) и ***monetary*** (сумма заработанных денег с пользователя) для всех пользователей, которые совершали покупки в течение последнего года"
   ]
  },
  {
   "cell_type": "code",
   "execution_count": 54,
   "metadata": {},
   "outputs": [
    {
     "data": {
      "text/html": [
       "<div>\n",
       "<style scoped>\n",
       "    .dataframe tbody tr th:only-of-type {\n",
       "        vertical-align: middle;\n",
       "    }\n",
       "\n",
       "    .dataframe tbody tr th {\n",
       "        vertical-align: top;\n",
       "    }\n",
       "\n",
       "    .dataframe thead th {\n",
       "        text-align: right;\n",
       "    }\n",
       "</style>\n",
       "<table border=\"1\" class=\"dataframe\">\n",
       "  <thead>\n",
       "    <tr style=\"text-align: right;\">\n",
       "      <th></th>\n",
       "      <th>customer_unique_id</th>\n",
       "      <th>recency</th>\n",
       "      <th>frequency</th>\n",
       "      <th>monetary</th>\n",
       "    </tr>\n",
       "  </thead>\n",
       "  <tbody>\n",
       "    <tr>\n",
       "      <th>0</th>\n",
       "      <td>0000366f3b9a7992bf8c76cfdf3221e2</td>\n",
       "      <td>116</td>\n",
       "      <td>1</td>\n",
       "      <td>129.9</td>\n",
       "    </tr>\n",
       "    <tr>\n",
       "      <th>1</th>\n",
       "      <td>0000b849f77a49e4a4ce2b2a4ca5be3f</td>\n",
       "      <td>119</td>\n",
       "      <td>1</td>\n",
       "      <td>18.9</td>\n",
       "    </tr>\n",
       "  </tbody>\n",
       "</table>\n",
       "</div>"
      ],
      "text/plain": [
       "                 customer_unique_id  recency  frequency  monetary\n",
       "0  0000366f3b9a7992bf8c76cfdf3221e2      116          1     129.9\n",
       "1  0000b849f77a49e4a4ce2b2a4ca5be3f      119          1      18.9"
      ]
     },
     "execution_count": 54,
     "metadata": {},
     "output_type": "execute_result"
    }
   ],
   "source": [
    "rfm = purchases_price_date.groupby('customer_unique_id', as_index = False)\\\n",
    "                        .agg({'days_since_purchase':'min',\\\n",
    "                              'order_id':'count',\\\n",
    "                              'price':'sum'})\\\n",
    "                        .rename(columns={'days_since_purchase': 'recency', \\\n",
    "                                         'order_id': 'frequency',\\\n",
    "                                         'price':'monetary'})\n",
    "rfm.head(2)"
   ]
  },
  {
   "cell_type": "markdown",
   "metadata": {},
   "source": [
    "Пользователей необходимо проранжировать по значениям ***recency***, ***frequency*** и ***monetary***. Необходимо получить по 5 рангов для каждой из категорий. Зададим границы рангов по 20%, 40%, 60% и 80% квантилям распределений ***recency***, ***frequency*** и ***monetary*** за последний год"
   ]
  },
  {
   "cell_type": "code",
   "execution_count": 55,
   "metadata": {},
   "outputs": [
    {
     "data": {
      "text/plain": [
       "{'recency': {0.2: 75.0, 0.4: 143.0, 0.6: 208.0, 0.8: 279.0},\n",
       " 'frequency': {0.2: 1.0, 0.4: 1.0, 0.6: 1.0, 0.8: 1.0},\n",
       " 'monetary': {0.2: 39.9, 0.4: 69.9, 0.6: 109.99, 0.8: 179.8}}"
      ]
     },
     "execution_count": 55,
     "metadata": {},
     "output_type": "execute_result"
    }
   ],
   "source": [
    "quintiles = rfm[['recency', 'frequency', 'monetary']].quantile([.2, .4, .6, .8]).to_dict()\n",
    "quintiles"
   ]
  },
  {
   "cell_type": "markdown",
   "metadata": {},
   "source": [
    "По результатам разбиения категорий на квантили мы видим, что такой способ разделения на категории не подходит для метрики ***frequency***. Действительно - ранее мы определили, что около 96% пользователей совершают в магазине только одну покупку. Изучим распределение метрики ***frequency*** подробнее."
   ]
  },
  {
   "cell_type": "code",
   "execution_count": 56,
   "metadata": {},
   "outputs": [
    {
     "data": {
      "text/html": [
       "<div>\n",
       "<style scoped>\n",
       "    .dataframe tbody tr th:only-of-type {\n",
       "        vertical-align: middle;\n",
       "    }\n",
       "\n",
       "    .dataframe tbody tr th {\n",
       "        vertical-align: top;\n",
       "    }\n",
       "\n",
       "    .dataframe thead th {\n",
       "        text-align: right;\n",
       "    }\n",
       "</style>\n",
       "<table border=\"1\" class=\"dataframe\">\n",
       "  <thead>\n",
       "    <tr style=\"text-align: right;\">\n",
       "      <th></th>\n",
       "      <th>frequency</th>\n",
       "    </tr>\n",
       "  </thead>\n",
       "  <tbody>\n",
       "    <tr>\n",
       "      <th>1</th>\n",
       "      <td>71240</td>\n",
       "    </tr>\n",
       "    <tr>\n",
       "      <th>2</th>\n",
       "      <td>1709</td>\n",
       "    </tr>\n",
       "    <tr>\n",
       "      <th>3</th>\n",
       "      <td>96</td>\n",
       "    </tr>\n",
       "    <tr>\n",
       "      <th>4</th>\n",
       "      <td>16</td>\n",
       "    </tr>\n",
       "    <tr>\n",
       "      <th>5</th>\n",
       "      <td>5</td>\n",
       "    </tr>\n",
       "    <tr>\n",
       "      <th>7</th>\n",
       "      <td>3</td>\n",
       "    </tr>\n",
       "    <tr>\n",
       "      <th>9</th>\n",
       "      <td>1</td>\n",
       "    </tr>\n",
       "    <tr>\n",
       "      <th>11</th>\n",
       "      <td>1</td>\n",
       "    </tr>\n",
       "  </tbody>\n",
       "</table>\n",
       "</div>"
      ],
      "text/plain": [
       "    frequency\n",
       "1       71240\n",
       "2        1709\n",
       "3          96\n",
       "4          16\n",
       "5           5\n",
       "7           3\n",
       "9           1\n",
       "11          1"
      ]
     },
     "execution_count": 56,
     "metadata": {},
     "output_type": "execute_result"
    }
   ],
   "source": [
    "rfm.frequency.value_counts().to_frame()"
   ]
  },
  {
   "cell_type": "markdown",
   "metadata": {},
   "source": [
    "Для метрики ***frequency*** следует подобрать отдельный способ деления на категории. Поскольку эта метрика (суммарное число покупок на пользователя за последний год) имеет значительно меньшую дисперсию, чем метрики ***monetary*** и ***recency*** - разбиение значений на 5 категорий будет избыточным.   \n",
    "Предлагаю ввести деление на две категории: условно разделим покупателей на \"новых\" и \"постоянных\". \"Постоянными\" будем считать тех, кто совершил более 2 покупок за последний год."
   ]
  },
  {
   "cell_type": "markdown",
   "metadata": {},
   "source": [
    "Зададим функции для присвоения рангов, после разбиения recency и monetary по границам квантилей, а также frequency на 2 категории (новые и постоянные покупатели).   \n",
    "Наилучшие показатели ***recency*** (5 ранг) - это значения, которые оказались меньше квантили 20%, т.к. это пользователи, которые  сделали покупки наиболее недавно. Наилучшие показатели ***monetary*** - это значения, которые оказались больше 80% квантили, т.к. это пользователи, которые сделали большее число покупок за последний год и принесли нам больше денег. Наилучший показатель ***frequency*** (2 ранг) - это наши постоянные покупатели, а именно пользователи, которые совершили более 2-х покупок за последний год."
   ]
  },
  {
   "cell_type": "code",
   "execution_count": 57,
   "metadata": {},
   "outputs": [],
   "source": [
    "def r_score(x):\n",
    "    if x <= quintiles['recency'][.2]:\n",
    "        return 5\n",
    "    elif x <= quintiles['recency'][.4]:\n",
    "        return 4\n",
    "    elif x <= quintiles['recency'][.6]:\n",
    "        return 3\n",
    "    elif x <= quintiles['recency'][.8]:\n",
    "        return 2\n",
    "    else:\n",
    "        return 1\n",
    "\n",
    "def m_score(x):\n",
    "    if x <= quintiles['monetary'][.2]:\n",
    "        return 1\n",
    "    elif x <= quintiles['monetary'][.4]:\n",
    "        return 2\n",
    "    elif x <= quintiles['monetary'][.6]:\n",
    "        return 3\n",
    "    elif x <= quintiles['monetary'][.8]:\n",
    "        return 4\n",
    "    else:\n",
    "        return 5\n",
    "    \n",
    "def f_score(x):\n",
    "    if x <= 2:\n",
    "        return 1\n",
    "    else:\n",
    "        return 2"
   ]
  },
  {
   "cell_type": "markdown",
   "metadata": {},
   "source": [
    "Применям функции - создаем столбцы с присвоенными рангами"
   ]
  },
  {
   "cell_type": "code",
   "execution_count": 58,
   "metadata": {},
   "outputs": [],
   "source": [
    "rfm['R'] = rfm['recency'].apply(lambda x: r_score(x))\n",
    "rfm['F'] = rfm['frequency'].apply(lambda x: f_score(x))\n",
    "rfm['M'] = rfm['monetary'].apply(lambda x: m_score(x))"
   ]
  },
  {
   "cell_type": "markdown",
   "metadata": {},
   "source": [
    "Складываем ранги по трем шкалам, для каждого пользователя и получаем 3-х значный RFM-score"
   ]
  },
  {
   "cell_type": "code",
   "execution_count": 59,
   "metadata": {},
   "outputs": [
    {
     "data": {
      "text/html": [
       "<div>\n",
       "<style scoped>\n",
       "    .dataframe tbody tr th:only-of-type {\n",
       "        vertical-align: middle;\n",
       "    }\n",
       "\n",
       "    .dataframe tbody tr th {\n",
       "        vertical-align: top;\n",
       "    }\n",
       "\n",
       "    .dataframe thead th {\n",
       "        text-align: right;\n",
       "    }\n",
       "</style>\n",
       "<table border=\"1\" class=\"dataframe\">\n",
       "  <thead>\n",
       "    <tr style=\"text-align: right;\">\n",
       "      <th></th>\n",
       "      <th>customer_unique_id</th>\n",
       "      <th>recency</th>\n",
       "      <th>frequency</th>\n",
       "      <th>monetary</th>\n",
       "      <th>R</th>\n",
       "      <th>F</th>\n",
       "      <th>M</th>\n",
       "      <th>RFM Score</th>\n",
       "    </tr>\n",
       "  </thead>\n",
       "  <tbody>\n",
       "    <tr>\n",
       "      <th>0</th>\n",
       "      <td>0000366f3b9a7992bf8c76cfdf3221e2</td>\n",
       "      <td>116</td>\n",
       "      <td>1</td>\n",
       "      <td>129.9</td>\n",
       "      <td>4</td>\n",
       "      <td>1</td>\n",
       "      <td>4</td>\n",
       "      <td>414</td>\n",
       "    </tr>\n",
       "    <tr>\n",
       "      <th>1</th>\n",
       "      <td>0000b849f77a49e4a4ce2b2a4ca5be3f</td>\n",
       "      <td>119</td>\n",
       "      <td>1</td>\n",
       "      <td>18.9</td>\n",
       "      <td>4</td>\n",
       "      <td>1</td>\n",
       "      <td>1</td>\n",
       "      <td>411</td>\n",
       "    </tr>\n",
       "  </tbody>\n",
       "</table>\n",
       "</div>"
      ],
      "text/plain": [
       "                 customer_unique_id  recency  frequency  monetary  R  F  M  \\\n",
       "0  0000366f3b9a7992bf8c76cfdf3221e2      116          1     129.9  4  1  4   \n",
       "1  0000b849f77a49e4a4ce2b2a4ca5be3f      119          1      18.9  4  1  1   \n",
       "\n",
       "  RFM Score  \n",
       "0       414  \n",
       "1       411  "
      ]
     },
     "execution_count": 59,
     "metadata": {},
     "output_type": "execute_result"
    }
   ],
   "source": [
    "rfm['RFM Score'] = rfm['R'].map(str) + rfm['F'].map(str) + rfm['M'].map(str)\n",
    "rfm.head(2)"
   ]
  },
  {
   "cell_type": "markdown",
   "metadata": {},
   "source": [
    "Визуализируем распределение пользователей по сегментам каждой из трех метрик:"
   ]
  },
  {
   "cell_type": "code",
   "execution_count": 64,
   "metadata": {},
   "outputs": [],
   "source": [
    "def scores(rfm_score):\n",
    "    r = rfm.R.value_counts().to_frame().reset_index().rename(columns = {'index':'R','R':'Total users'})\n",
    "    f = rfm.F.value_counts().to_frame().reset_index().rename(columns = {'index':'F','F':'Total users'})\n",
    "    m = rfm.M.value_counts().to_frame().reset_index().rename(columns = {'index':'M','M':'Total users'})\n",
    "    return {'R': r,\n",
    "           'F': f,\n",
    "           'M': m}"
   ]
  },
  {
   "cell_type": "code",
   "execution_count": 66,
   "metadata": {},
   "outputs": [],
   "source": [
    "scores = scores(rfm)"
   ]
  },
  {
   "cell_type": "code",
   "execution_count": 67,
   "metadata": {},
   "outputs": [],
   "source": [
    "def graf(scores):    \n",
    "    plt.figure(figsize=(20, 9))\n",
    "    plt.subplot(1, 3, 1)\n",
    "    plt.ylabel(\"Total users\")\n",
    "    bar = sns.barplot(x='R', y='Total users', data=scores['R'])\n",
    "    bar.axes.set_title('Recency')\n",
    "    plt.subplot(1, 3, 2)\n",
    "    bar = sns.barplot(x='F', y='Total users', data=scores['F'])\n",
    "    bar.axes.set_title('Frequency')\n",
    "    plt.subplot(1, 3, 3)\n",
    "    bar = sns.barplot(x='M', y='Total users', data=scores['M'])\n",
    "    bar.axes.set_title('Monetary')"
   ]
  },
  {
   "cell_type": "code",
   "execution_count": 68,
   "metadata": {},
   "outputs": [
    {
     "data": {
      "image/png": "[encoded data removed]",
      "text/plain": [
       "<Figure size 2000x900 with 3 Axes>"
      ]
     },
     "metadata": {},
     "output_type": "display_data"
    }
   ],
   "source": [
    "graf(scores)"
   ]
  },
  {
   "cell_type": "markdown",
   "metadata": {},
   "source": [
    "Мы видим, что покупатели достаточно равномерно распределены по 5-ти кластерам метрик ***recency*** (давность покупки) и ***monetary*** (прибыль), при этом распределение метрики ***frequency*** (частота покупок) очень неравномерно. Преобладающее число клиентов совершает в магазине 1-2 покупки и больше не возвращается. \n",
    "Имеет смысл изучить причины низкой возвращаемости клиентов и, возможно, принять меры по ее повышению."
   ]
  }
 ],
 "metadata": {
  "kernelspec": {
   "display_name": "Python 3 (ipykernel)",
   "language": "python",
   "name": "python3"
  },
  "language_info": {
   "codemirror_mode": {
    "name": "ipython",
    "version": 3
   },
   "file_extension": ".py",
   "mimetype": "text/x-python",
   "name": "python",
   "nbconvert_exporter": "python",
   "pygments_lexer": "ipython3",
   "version": "3.10.9"
  }
 },
 "nbformat": 4,
 "nbformat_minor": 4
}
